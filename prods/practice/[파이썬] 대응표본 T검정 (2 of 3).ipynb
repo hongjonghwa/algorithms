{
 "cells": [
  {
   "cell_type": "code",
   "execution_count": 1,
   "metadata": {},
   "outputs": [],
   "source": [
    "# [파이썬] 대응표본 T검정 (2/3)\n",
    "# https://blog.naver.com/ostin1038/222133754395"
   ]
  },
  {
   "cell_type": "code",
   "execution_count": 2,
   "metadata": {},
   "outputs": [],
   "source": [
    "import numpy as np\n",
    "import pandas as pd\n",
    "import matplotlib.pyplot as plt\n",
    "import seaborn as sns\n",
    "import scipy.stats as stats"
   ]
  },
  {
   "cell_type": "code",
   "execution_count": 3,
   "metadata": {},
   "outputs": [],
   "source": [
    "np.random.seed(42)"
   ]
  },
  {
   "cell_type": "code",
   "execution_count": 4,
   "metadata": {},
   "outputs": [
    {
     "data": {
      "text/plain": [
       "['강남구',\n",
       " '강동구',\n",
       " '강북구',\n",
       " '강서구',\n",
       " '관악구',\n",
       " '광진구',\n",
       " '구로구',\n",
       " '금천구',\n",
       " '노원구',\n",
       " '도봉구',\n",
       " '동대문구',\n",
       " '동작구',\n",
       " '마포구',\n",
       " '서대문구',\n",
       " '서초구',\n",
       " '성동구',\n",
       " '성북구',\n",
       " '송파구',\n",
       " '양천구',\n",
       " '영등포구',\n",
       " '용산구',\n",
       " '은평구',\n",
       " '종로구',\n",
       " '중구',\n",
       " '중랑구']"
      ]
     },
     "execution_count": 4,
     "metadata": {},
     "output_type": "execute_result"
    }
   ],
   "source": [
    "gu =  [\n",
    "    '강남구','강동구','강북구','강서구','관악구',\n",
    "    '광진구','구로구','금천구','노원구','도봉구',\n",
    "    '동대문구','동작구','마포구','서대문구','서초구',\n",
    "    '성동구','성북구','송파구','양천구','영등포구',\n",
    "    '용산구','은평구','종로구','중구','중랑구']\n",
    "gu"
   ]
  },
  {
   "cell_type": "code",
   "execution_count": 6,
   "metadata": {},
   "outputs": [
    {
     "data": {
      "text/plain": [
       "array([354.9623173 , 313.97716475, 335.99641069, 341.46901982,\n",
       "       303.25152889, 342.52813963, 311.93668866, 304.55361151,\n",
       "       366.42198761, 367.59424232, 356.58781437, 321.32296384,\n",
       "       306.83704798, 347.89631186, 330.81067456, 308.54267644,\n",
       "       334.66238371, 302.40719648, 363.65242815, 318.11459871,\n",
       "       346.3765599 , 321.81977533, 336.40476148, 338.26971955,\n",
       "       312.93981189])"
      ]
     },
     "execution_count": 6,
     "metadata": {},
     "output_type": "execute_result"
    }
   ],
   "source": [
    "before_sale = np.random.uniform(low=300, high=370, size=25)\n",
    "before_sale"
   ]
  },
  {
   "cell_type": "code",
   "execution_count": 7,
   "metadata": {},
   "outputs": [
    {
     "data": {
      "text/plain": [
       "array([397.56677022, 382.01062587, 395.15991533, 391.58618803,\n",
       "       367.8319983 , 393.7499388 , 327.07940016, 335.67862899,\n",
       "       323.61818311, 346.02642646, 351.09418318, 341.70792254,\n",
       "       386.29900073, 348.54026614, 342.47476077, 363.41568665,\n",
       "       331.273938  , 384.17575846, 325.96405149, 398.95095493,\n",
       "       381.77958154, 335.89725452, 320.44176937, 385.23691428,\n",
       "       376.54858751])"
      ]
     },
     "execution_count": 7,
     "metadata": {},
     "output_type": "execute_result"
    }
   ],
   "source": [
    "after_sale = np.random.uniform(low=320, high=400, size=25)\n",
    "after_sale"
   ]
  },
  {
   "cell_type": "code",
   "execution_count": 9,
   "metadata": {},
   "outputs": [
    {
     "data": {
      "text/html": [
       "<div>\n",
       "<style scoped>\n",
       "    .dataframe tbody tr th:only-of-type {\n",
       "        vertical-align: middle;\n",
       "    }\n",
       "\n",
       "    .dataframe tbody tr th {\n",
       "        vertical-align: top;\n",
       "    }\n",
       "\n",
       "    .dataframe thead th {\n",
       "        text-align: right;\n",
       "    }\n",
       "</style>\n",
       "<table border=\"1\" class=\"dataframe\">\n",
       "  <thead>\n",
       "    <tr style=\"text-align: right;\">\n",
       "      <th></th>\n",
       "      <th>gu</th>\n",
       "      <th>before_sale</th>\n",
       "      <th>after_sale</th>\n",
       "    </tr>\n",
       "  </thead>\n",
       "  <tbody>\n",
       "    <tr>\n",
       "      <th>0</th>\n",
       "      <td>강남구</td>\n",
       "      <td>354.962317</td>\n",
       "      <td>397.566770</td>\n",
       "    </tr>\n",
       "    <tr>\n",
       "      <th>1</th>\n",
       "      <td>강동구</td>\n",
       "      <td>313.977165</td>\n",
       "      <td>382.010626</td>\n",
       "    </tr>\n",
       "    <tr>\n",
       "      <th>2</th>\n",
       "      <td>강북구</td>\n",
       "      <td>335.996411</td>\n",
       "      <td>395.159915</td>\n",
       "    </tr>\n",
       "    <tr>\n",
       "      <th>3</th>\n",
       "      <td>강서구</td>\n",
       "      <td>341.469020</td>\n",
       "      <td>391.586188</td>\n",
       "    </tr>\n",
       "    <tr>\n",
       "      <th>4</th>\n",
       "      <td>관악구</td>\n",
       "      <td>303.251529</td>\n",
       "      <td>367.831998</td>\n",
       "    </tr>\n",
       "    <tr>\n",
       "      <th>5</th>\n",
       "      <td>광진구</td>\n",
       "      <td>342.528140</td>\n",
       "      <td>393.749939</td>\n",
       "    </tr>\n",
       "    <tr>\n",
       "      <th>6</th>\n",
       "      <td>구로구</td>\n",
       "      <td>311.936689</td>\n",
       "      <td>327.079400</td>\n",
       "    </tr>\n",
       "    <tr>\n",
       "      <th>7</th>\n",
       "      <td>금천구</td>\n",
       "      <td>304.553612</td>\n",
       "      <td>335.678629</td>\n",
       "    </tr>\n",
       "    <tr>\n",
       "      <th>8</th>\n",
       "      <td>노원구</td>\n",
       "      <td>366.421988</td>\n",
       "      <td>323.618183</td>\n",
       "    </tr>\n",
       "    <tr>\n",
       "      <th>9</th>\n",
       "      <td>도봉구</td>\n",
       "      <td>367.594242</td>\n",
       "      <td>346.026426</td>\n",
       "    </tr>\n",
       "    <tr>\n",
       "      <th>10</th>\n",
       "      <td>동대문구</td>\n",
       "      <td>356.587814</td>\n",
       "      <td>351.094183</td>\n",
       "    </tr>\n",
       "    <tr>\n",
       "      <th>11</th>\n",
       "      <td>동작구</td>\n",
       "      <td>321.322964</td>\n",
       "      <td>341.707923</td>\n",
       "    </tr>\n",
       "    <tr>\n",
       "      <th>12</th>\n",
       "      <td>마포구</td>\n",
       "      <td>306.837048</td>\n",
       "      <td>386.299001</td>\n",
       "    </tr>\n",
       "    <tr>\n",
       "      <th>13</th>\n",
       "      <td>서대문구</td>\n",
       "      <td>347.896312</td>\n",
       "      <td>348.540266</td>\n",
       "    </tr>\n",
       "    <tr>\n",
       "      <th>14</th>\n",
       "      <td>서초구</td>\n",
       "      <td>330.810675</td>\n",
       "      <td>342.474761</td>\n",
       "    </tr>\n",
       "    <tr>\n",
       "      <th>15</th>\n",
       "      <td>성동구</td>\n",
       "      <td>308.542676</td>\n",
       "      <td>363.415687</td>\n",
       "    </tr>\n",
       "    <tr>\n",
       "      <th>16</th>\n",
       "      <td>성북구</td>\n",
       "      <td>334.662384</td>\n",
       "      <td>331.273938</td>\n",
       "    </tr>\n",
       "    <tr>\n",
       "      <th>17</th>\n",
       "      <td>송파구</td>\n",
       "      <td>302.407196</td>\n",
       "      <td>384.175758</td>\n",
       "    </tr>\n",
       "    <tr>\n",
       "      <th>18</th>\n",
       "      <td>양천구</td>\n",
       "      <td>363.652428</td>\n",
       "      <td>325.964051</td>\n",
       "    </tr>\n",
       "    <tr>\n",
       "      <th>19</th>\n",
       "      <td>영등포구</td>\n",
       "      <td>318.114599</td>\n",
       "      <td>398.950955</td>\n",
       "    </tr>\n",
       "    <tr>\n",
       "      <th>20</th>\n",
       "      <td>용산구</td>\n",
       "      <td>346.376560</td>\n",
       "      <td>381.779582</td>\n",
       "    </tr>\n",
       "    <tr>\n",
       "      <th>21</th>\n",
       "      <td>은평구</td>\n",
       "      <td>321.819775</td>\n",
       "      <td>335.897255</td>\n",
       "    </tr>\n",
       "    <tr>\n",
       "      <th>22</th>\n",
       "      <td>종로구</td>\n",
       "      <td>336.404761</td>\n",
       "      <td>320.441769</td>\n",
       "    </tr>\n",
       "    <tr>\n",
       "      <th>23</th>\n",
       "      <td>중구</td>\n",
       "      <td>338.269720</td>\n",
       "      <td>385.236914</td>\n",
       "    </tr>\n",
       "    <tr>\n",
       "      <th>24</th>\n",
       "      <td>중랑구</td>\n",
       "      <td>312.939812</td>\n",
       "      <td>376.548588</td>\n",
       "    </tr>\n",
       "  </tbody>\n",
       "</table>\n",
       "</div>"
      ],
      "text/plain": [
       "      gu  before_sale  after_sale\n",
       "0    강남구   354.962317  397.566770\n",
       "1    강동구   313.977165  382.010626\n",
       "2    강북구   335.996411  395.159915\n",
       "3    강서구   341.469020  391.586188\n",
       "4    관악구   303.251529  367.831998\n",
       "5    광진구   342.528140  393.749939\n",
       "6    구로구   311.936689  327.079400\n",
       "7    금천구   304.553612  335.678629\n",
       "8    노원구   366.421988  323.618183\n",
       "9    도봉구   367.594242  346.026426\n",
       "10  동대문구   356.587814  351.094183\n",
       "11   동작구   321.322964  341.707923\n",
       "12   마포구   306.837048  386.299001\n",
       "13  서대문구   347.896312  348.540266\n",
       "14   서초구   330.810675  342.474761\n",
       "15   성동구   308.542676  363.415687\n",
       "16   성북구   334.662384  331.273938\n",
       "17   송파구   302.407196  384.175758\n",
       "18   양천구   363.652428  325.964051\n",
       "19  영등포구   318.114599  398.950955\n",
       "20   용산구   346.376560  381.779582\n",
       "21   은평구   321.819775  335.897255\n",
       "22   종로구   336.404761  320.441769\n",
       "23    중구   338.269720  385.236914\n",
       "24   중랑구   312.939812  376.548588"
      ]
     },
     "execution_count": 9,
     "metadata": {},
     "output_type": "execute_result"
    }
   ],
   "source": [
    "df = pd.DataFrame(data={'gu':gu,'before_sale':before_sale, 'after_sale':after_sale})\n",
    "df"
   ]
  },
  {
   "cell_type": "code",
   "execution_count": 10,
   "metadata": {},
   "outputs": [
    {
     "data": {
      "text/plain": [
       "(0.9392572045326233, 0.14229384064674377)"
      ]
     },
     "execution_count": 10,
     "metadata": {},
     "output_type": "execute_result"
    }
   ],
   "source": [
    "stats.shapiro(df['before_sale'])"
   ]
  },
  {
   "cell_type": "code",
   "execution_count": 11,
   "metadata": {},
   "outputs": [
    {
     "data": {
      "text/plain": [
       "(0.9015163779258728, 0.019798289984464645)"
      ]
     },
     "execution_count": 11,
     "metadata": {},
     "output_type": "execute_result"
    }
   ],
   "source": [
    "stats.shapiro(df['after_sale'])"
   ]
  },
  {
   "cell_type": "code",
   "execution_count": 12,
   "metadata": {},
   "outputs": [
    {
     "data": {
      "text/plain": [
       "BartlettResult(statistic=1.5882593044810964, pvalue=0.20757500702336937)"
      ]
     },
     "execution_count": 12,
     "metadata": {},
     "output_type": "execute_result"
    }
   ],
   "source": [
    "stats.bartlett(df['before_sale'], df['after_sale'])"
   ]
  },
  {
   "cell_type": "code",
   "execution_count": 13,
   "metadata": {},
   "outputs": [
    {
     "data": {
      "text/plain": [
       "Ttest_relResult(statistic=-4.012370116301472, pvalue=0.0005106906261994604)"
      ]
     },
     "execution_count": 13,
     "metadata": {},
     "output_type": "execute_result"
    }
   ],
   "source": [
    "stats.ttest_rel(df['before_sale'], df['after_sale'])"
   ]
  },
  {
   "cell_type": "code",
   "execution_count": 14,
   "metadata": {},
   "outputs": [
    {
     "name": "stderr",
     "output_type": "stream",
     "text": [
      "C:\\ProgramData\\Anaconda3\\lib\\site-packages\\scipy\\stats\\stats.py:1713: FutureWarning: Using a non-tuple sequence for multidimensional indexing is deprecated; use `arr[tuple(seq)]` instead of `arr[seq]`. In the future this will be interpreted as an array index, `arr[np.array(seq)]`, which will result either in an error or a different result.\n",
      "  return np.add.reduce(sorted[indexer] * weights, axis=axis) / sumval\n"
     ]
    },
    {
     "data": {
      "text/plain": [
       "<matplotlib.axes._subplots.AxesSubplot at 0x1515b05a0f0>"
      ]
     },
     "execution_count": 14,
     "metadata": {},
     "output_type": "execute_result"
    },
    {
     "data": {
      "image/png": "[encoded data removed]",
      "text/plain": [
       "<Figure size 432x288 with 1 Axes>"
      ]
     },
     "metadata": {
      "needs_background": "light"
     },
     "output_type": "display_data"
    }
   ],
   "source": [
    "sns.distplot(df['before_sale'])\n",
    "sns.distplot(df['after_sale'])"
   ]
  },
  {
   "cell_type": "code",
   "execution_count": 17,
   "metadata": {},
   "outputs": [
    {
     "data": {
      "text/html": [
       "<div>\n",
       "<style scoped>\n",
       "    .dataframe tbody tr th:only-of-type {\n",
       "        vertical-align: middle;\n",
       "    }\n",
       "\n",
       "    .dataframe tbody tr th {\n",
       "        vertical-align: top;\n",
       "    }\n",
       "\n",
       "    .dataframe thead th {\n",
       "        text-align: right;\n",
       "    }\n",
       "</style>\n",
       "<table border=\"1\" class=\"dataframe\">\n",
       "  <thead>\n",
       "    <tr style=\"text-align: right;\">\n",
       "      <th></th>\n",
       "      <th></th>\n",
       "      <th>0</th>\n",
       "    </tr>\n",
       "  </thead>\n",
       "  <tbody>\n",
       "    <tr>\n",
       "      <th rowspan=\"3\" valign=\"top\">0</th>\n",
       "      <th>gu</th>\n",
       "      <td>강남구</td>\n",
       "    </tr>\n",
       "    <tr>\n",
       "      <th>before_sale</th>\n",
       "      <td>354.962</td>\n",
       "    </tr>\n",
       "    <tr>\n",
       "      <th>after_sale</th>\n",
       "      <td>397.567</td>\n",
       "    </tr>\n",
       "    <tr>\n",
       "      <th rowspan=\"3\" valign=\"top\">1</th>\n",
       "      <th>gu</th>\n",
       "      <td>강동구</td>\n",
       "    </tr>\n",
       "    <tr>\n",
       "      <th>before_sale</th>\n",
       "      <td>313.977</td>\n",
       "    </tr>\n",
       "    <tr>\n",
       "      <th>after_sale</th>\n",
       "      <td>382.011</td>\n",
       "    </tr>\n",
       "    <tr>\n",
       "      <th rowspan=\"3\" valign=\"top\">2</th>\n",
       "      <th>gu</th>\n",
       "      <td>강북구</td>\n",
       "    </tr>\n",
       "    <tr>\n",
       "      <th>before_sale</th>\n",
       "      <td>335.996</td>\n",
       "    </tr>\n",
       "    <tr>\n",
       "      <th>after_sale</th>\n",
       "      <td>395.16</td>\n",
       "    </tr>\n",
       "    <tr>\n",
       "      <th rowspan=\"3\" valign=\"top\">3</th>\n",
       "      <th>gu</th>\n",
       "      <td>강서구</td>\n",
       "    </tr>\n",
       "    <tr>\n",
       "      <th>before_sale</th>\n",
       "      <td>341.469</td>\n",
       "    </tr>\n",
       "    <tr>\n",
       "      <th>after_sale</th>\n",
       "      <td>391.586</td>\n",
       "    </tr>\n",
       "    <tr>\n",
       "      <th rowspan=\"3\" valign=\"top\">4</th>\n",
       "      <th>gu</th>\n",
       "      <td>관악구</td>\n",
       "    </tr>\n",
       "    <tr>\n",
       "      <th>before_sale</th>\n",
       "      <td>303.252</td>\n",
       "    </tr>\n",
       "    <tr>\n",
       "      <th>after_sale</th>\n",
       "      <td>367.832</td>\n",
       "    </tr>\n",
       "    <tr>\n",
       "      <th rowspan=\"3\" valign=\"top\">5</th>\n",
       "      <th>gu</th>\n",
       "      <td>광진구</td>\n",
       "    </tr>\n",
       "    <tr>\n",
       "      <th>before_sale</th>\n",
       "      <td>342.528</td>\n",
       "    </tr>\n",
       "    <tr>\n",
       "      <th>after_sale</th>\n",
       "      <td>393.75</td>\n",
       "    </tr>\n",
       "    <tr>\n",
       "      <th rowspan=\"3\" valign=\"top\">6</th>\n",
       "      <th>gu</th>\n",
       "      <td>구로구</td>\n",
       "    </tr>\n",
       "    <tr>\n",
       "      <th>before_sale</th>\n",
       "      <td>311.937</td>\n",
       "    </tr>\n",
       "    <tr>\n",
       "      <th>after_sale</th>\n",
       "      <td>327.079</td>\n",
       "    </tr>\n",
       "    <tr>\n",
       "      <th rowspan=\"3\" valign=\"top\">7</th>\n",
       "      <th>gu</th>\n",
       "      <td>금천구</td>\n",
       "    </tr>\n",
       "    <tr>\n",
       "      <th>before_sale</th>\n",
       "      <td>304.554</td>\n",
       "    </tr>\n",
       "    <tr>\n",
       "      <th>after_sale</th>\n",
       "      <td>335.679</td>\n",
       "    </tr>\n",
       "    <tr>\n",
       "      <th rowspan=\"3\" valign=\"top\">8</th>\n",
       "      <th>gu</th>\n",
       "      <td>노원구</td>\n",
       "    </tr>\n",
       "    <tr>\n",
       "      <th>before_sale</th>\n",
       "      <td>366.422</td>\n",
       "    </tr>\n",
       "    <tr>\n",
       "      <th>after_sale</th>\n",
       "      <td>323.618</td>\n",
       "    </tr>\n",
       "    <tr>\n",
       "      <th rowspan=\"3\" valign=\"top\">9</th>\n",
       "      <th>gu</th>\n",
       "      <td>도봉구</td>\n",
       "    </tr>\n",
       "    <tr>\n",
       "      <th>before_sale</th>\n",
       "      <td>367.594</td>\n",
       "    </tr>\n",
       "    <tr>\n",
       "      <th>after_sale</th>\n",
       "      <td>346.026</td>\n",
       "    </tr>\n",
       "    <tr>\n",
       "      <th>...</th>\n",
       "      <th>...</th>\n",
       "      <td>...</td>\n",
       "    </tr>\n",
       "    <tr>\n",
       "      <th rowspan=\"3\" valign=\"top\">15</th>\n",
       "      <th>gu</th>\n",
       "      <td>성동구</td>\n",
       "    </tr>\n",
       "    <tr>\n",
       "      <th>before_sale</th>\n",
       "      <td>308.543</td>\n",
       "    </tr>\n",
       "    <tr>\n",
       "      <th>after_sale</th>\n",
       "      <td>363.416</td>\n",
       "    </tr>\n",
       "    <tr>\n",
       "      <th rowspan=\"3\" valign=\"top\">16</th>\n",
       "      <th>gu</th>\n",
       "      <td>성북구</td>\n",
       "    </tr>\n",
       "    <tr>\n",
       "      <th>before_sale</th>\n",
       "      <td>334.662</td>\n",
       "    </tr>\n",
       "    <tr>\n",
       "      <th>after_sale</th>\n",
       "      <td>331.274</td>\n",
       "    </tr>\n",
       "    <tr>\n",
       "      <th rowspan=\"3\" valign=\"top\">17</th>\n",
       "      <th>gu</th>\n",
       "      <td>송파구</td>\n",
       "    </tr>\n",
       "    <tr>\n",
       "      <th>before_sale</th>\n",
       "      <td>302.407</td>\n",
       "    </tr>\n",
       "    <tr>\n",
       "      <th>after_sale</th>\n",
       "      <td>384.176</td>\n",
       "    </tr>\n",
       "    <tr>\n",
       "      <th rowspan=\"3\" valign=\"top\">18</th>\n",
       "      <th>gu</th>\n",
       "      <td>양천구</td>\n",
       "    </tr>\n",
       "    <tr>\n",
       "      <th>before_sale</th>\n",
       "      <td>363.652</td>\n",
       "    </tr>\n",
       "    <tr>\n",
       "      <th>after_sale</th>\n",
       "      <td>325.964</td>\n",
       "    </tr>\n",
       "    <tr>\n",
       "      <th rowspan=\"3\" valign=\"top\">19</th>\n",
       "      <th>gu</th>\n",
       "      <td>영등포구</td>\n",
       "    </tr>\n",
       "    <tr>\n",
       "      <th>before_sale</th>\n",
       "      <td>318.115</td>\n",
       "    </tr>\n",
       "    <tr>\n",
       "      <th>after_sale</th>\n",
       "      <td>398.951</td>\n",
       "    </tr>\n",
       "    <tr>\n",
       "      <th rowspan=\"3\" valign=\"top\">20</th>\n",
       "      <th>gu</th>\n",
       "      <td>용산구</td>\n",
       "    </tr>\n",
       "    <tr>\n",
       "      <th>before_sale</th>\n",
       "      <td>346.377</td>\n",
       "    </tr>\n",
       "    <tr>\n",
       "      <th>after_sale</th>\n",
       "      <td>381.78</td>\n",
       "    </tr>\n",
       "    <tr>\n",
       "      <th rowspan=\"3\" valign=\"top\">21</th>\n",
       "      <th>gu</th>\n",
       "      <td>은평구</td>\n",
       "    </tr>\n",
       "    <tr>\n",
       "      <th>before_sale</th>\n",
       "      <td>321.82</td>\n",
       "    </tr>\n",
       "    <tr>\n",
       "      <th>after_sale</th>\n",
       "      <td>335.897</td>\n",
       "    </tr>\n",
       "    <tr>\n",
       "      <th rowspan=\"3\" valign=\"top\">22</th>\n",
       "      <th>gu</th>\n",
       "      <td>종로구</td>\n",
       "    </tr>\n",
       "    <tr>\n",
       "      <th>before_sale</th>\n",
       "      <td>336.405</td>\n",
       "    </tr>\n",
       "    <tr>\n",
       "      <th>after_sale</th>\n",
       "      <td>320.442</td>\n",
       "    </tr>\n",
       "    <tr>\n",
       "      <th rowspan=\"3\" valign=\"top\">23</th>\n",
       "      <th>gu</th>\n",
       "      <td>중구</td>\n",
       "    </tr>\n",
       "    <tr>\n",
       "      <th>before_sale</th>\n",
       "      <td>338.27</td>\n",
       "    </tr>\n",
       "    <tr>\n",
       "      <th>after_sale</th>\n",
       "      <td>385.237</td>\n",
       "    </tr>\n",
       "    <tr>\n",
       "      <th rowspan=\"3\" valign=\"top\">24</th>\n",
       "      <th>gu</th>\n",
       "      <td>중랑구</td>\n",
       "    </tr>\n",
       "    <tr>\n",
       "      <th>before_sale</th>\n",
       "      <td>312.94</td>\n",
       "    </tr>\n",
       "    <tr>\n",
       "      <th>after_sale</th>\n",
       "      <td>376.549</td>\n",
       "    </tr>\n",
       "  </tbody>\n",
       "</table>\n",
       "<p>75 rows × 1 columns</p>\n",
       "</div>"
      ],
      "text/plain": [
       "                      0\n",
       "0  gu               강남구\n",
       "   before_sale  354.962\n",
       "   after_sale   397.567\n",
       "1  gu               강동구\n",
       "   before_sale  313.977\n",
       "   after_sale   382.011\n",
       "2  gu               강북구\n",
       "   before_sale  335.996\n",
       "   after_sale    395.16\n",
       "3  gu               강서구\n",
       "   before_sale  341.469\n",
       "   after_sale   391.586\n",
       "4  gu               관악구\n",
       "   before_sale  303.252\n",
       "   after_sale   367.832\n",
       "5  gu               광진구\n",
       "   before_sale  342.528\n",
       "   after_sale    393.75\n",
       "6  gu               구로구\n",
       "   before_sale  311.937\n",
       "   after_sale   327.079\n",
       "7  gu               금천구\n",
       "   before_sale  304.554\n",
       "   after_sale   335.679\n",
       "8  gu               노원구\n",
       "   before_sale  366.422\n",
       "   after_sale   323.618\n",
       "9  gu               도봉구\n",
       "   before_sale  367.594\n",
       "   after_sale   346.026\n",
       "...                 ...\n",
       "15 gu               성동구\n",
       "   before_sale  308.543\n",
       "   after_sale   363.416\n",
       "16 gu               성북구\n",
       "   before_sale  334.662\n",
       "   after_sale   331.274\n",
       "17 gu               송파구\n",
       "   before_sale  302.407\n",
       "   after_sale   384.176\n",
       "18 gu               양천구\n",
       "   before_sale  363.652\n",
       "   after_sale   325.964\n",
       "19 gu              영등포구\n",
       "   before_sale  318.115\n",
       "   after_sale   398.951\n",
       "20 gu               용산구\n",
       "   before_sale  346.377\n",
       "   after_sale    381.78\n",
       "21 gu               은평구\n",
       "   before_sale   321.82\n",
       "   after_sale   335.897\n",
       "22 gu               종로구\n",
       "   before_sale  336.405\n",
       "   after_sale   320.442\n",
       "23 gu                중구\n",
       "   before_sale   338.27\n",
       "   after_sale   385.237\n",
       "24 gu               중랑구\n",
       "   before_sale   312.94\n",
       "   after_sale   376.549\n",
       "\n",
       "[75 rows x 1 columns]"
      ]
     },
     "execution_count": 17,
     "metadata": {},
     "output_type": "execute_result"
    }
   ],
   "source": [
    "pd.DataFrame(df.stack())"
   ]
  },
  {
   "cell_type": "code",
   "execution_count": 19,
   "metadata": {},
   "outputs": [
    {
     "data": {
      "text/plain": [
       "<matplotlib.axes._subplots.AxesSubplot at 0x15162114a20>"
      ]
     },
     "execution_count": 19,
     "metadata": {},
     "output_type": "execute_result"
    },
    {
     "data": {
      "image/png": "[encoded data removed]",
      "text/plain": [
       "<Figure size 432x288 with 1 Axes>"
      ]
     },
     "metadata": {
      "needs_background": "light"
     },
     "output_type": "display_data"
    }
   ],
   "source": [
    "df.boxplot(column=['before_sale', 'after_sale'])"
   ]
  },
  {
   "cell_type": "code",
   "execution_count": 20,
   "metadata": {},
   "outputs": [
    {
     "data": {
      "text/plain": [
       "<matplotlib.axes._subplots.AxesSubplot at 0x1515f720630>"
      ]
     },
     "execution_count": 20,
     "metadata": {},
     "output_type": "execute_result"
    },
    {
     "data": {
      "image/png": "[encoded data removed]",
      "text/plain": [
       "<Figure size 432x288 with 1 Axes>"
      ]
     },
     "metadata": {
      "needs_background": "light"
     },
     "output_type": "display_data"
    }
   ],
   "source": [
    "sns.boxplot(data=df)"
   ]
  }
 ],
 "metadata": {
  "kernelspec": {
   "display_name": "Python 3",
   "language": "python",
   "name": "python3"
  },
  "language_info": {
   "codemirror_mode": {
    "name": "ipython",
    "version": 3
   },
   "file_extension": ".py",
   "mimetype": "text/x-python",
   "name": "python",
   "nbconvert_exporter": "python",
   "pygments_lexer": "ipython3",
   "version": "3.7.1"
  }
 },
 "nbformat": 4,
 "nbformat_minor": 2
}
