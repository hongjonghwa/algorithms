{
 "cells": [
  {
   "cell_type": "code",
   "execution_count": null,
   "metadata": {},
   "outputs": [],
   "source": [
    "# T-statistic 는 두 집단의 차이 / 표준오차. 즉, [표준오차]와 [표본평균사이의 차이]의 비율\n",
    "\n",
    "# 모 분산을 모를 때 검정 통계량\n",
    "#        x - u\n",
    "#  t =  -------     ※ t분포 ( 자유도 = n-1 )\n",
    "#       s / √n"
   ]
  },
  {
   "cell_type": "code",
   "execution_count": 1,
   "metadata": {},
   "outputs": [],
   "source": [
    "import numpy as np\n",
    "from scipy import stats"
   ]
  },
  {
   "cell_type": "code",
   "execution_count": 2,
   "metadata": {},
   "outputs": [
    {
     "data": {
      "text/plain": [
       "array([174.48357077, 171.30867849, 175.23844269, 179.61514928,\n",
       "       170.82923313, 170.82931522, 179.89606408, 175.83717365,\n",
       "       169.65262807, 174.71280022, 169.68291154, 169.67135123,\n",
       "       173.20981136, 162.43359878, 163.37541084, 169.18856235,\n",
       "       166.9358444 , 173.57123666, 167.45987962, 164.93848149])"
      ]
     },
     "execution_count": 2,
     "metadata": {},
     "output_type": "execute_result"
    }
   ],
   "source": [
    "np.random.seed(42)\n",
    "x = np.random.normal(loc=172, scale=5, size=20) # heights\n",
    "x"
   ]
  },
  {
   "cell_type": "code",
   "execution_count": 3,
   "metadata": {},
   "outputs": [
    {
     "name": "stdout",
     "output_type": "stream",
     "text": [
      "# 1-Sample T-test(단일 표본 t-검정)\n"
     ]
    }
   ],
   "source": [
    "print(\"# 1-Sample T-test(단일 표본 t-검정)\")"
   ]
  },
  {
   "cell_type": "code",
   "execution_count": 5,
   "metadata": {},
   "outputs": [
    {
     "data": {
      "text/plain": [
       "Ttest_1sampResult(statistic=-3.5929686576289925, pvalue=0.0019392204848695247)"
      ]
     },
     "execution_count": 5,
     "metadata": {},
     "output_type": "execute_result"
    }
   ],
   "source": [
    "stats.ttest_1samp(x, 175) # H0 => 평균이 175"
   ]
  },
  {
   "cell_type": "code",
   "execution_count": 8,
   "metadata": {},
   "outputs": [
    {
     "name": "stdout",
     "output_type": "stream",
     "text": [
      "result: -1.729634 0.099909\n"
     ]
    }
   ],
   "source": [
    "ret = stats.ttest_1samp(x, 173) # H0 => 평균이 173\n",
    "print(\"result: {:f} {:f}\".format(ret.statistic, ret.pvalue))"
   ]
  },
  {
   "cell_type": "code",
   "execution_count": 59,
   "metadata": {},
   "outputs": [
    {
     "data": {
      "text/html": [
       "<img src=\"https://wikimedia.org/api/rest_v1/media/math/render/svg/925bdf4f11c6938c078955ff9558de9995ea3660\"/>"
      ],
      "text/plain": [
       "<IPython.core.display.Image object>"
      ]
     },
     "execution_count": 59,
     "metadata": {},
     "output_type": "execute_result"
    }
   ],
   "source": [
    "from IPython import display\n",
    "display.Image(url=\"https://wikimedia.org/api/rest_v1/media/math/render/svg/925bdf4f11c6938c078955ff9558de9995ea3660\")"
   ]
  },
  {
   "cell_type": "code",
   "execution_count": 54,
   "metadata": {},
   "outputs": [
    {
     "name": "stdout",
     "output_type": "stream",
     "text": [
      "sample:        mean = 171.1435, variance = 23.0414, skew = 0.0227, kurtosis = -0.5445, size = 20.000000\n",
      "t-statistic = -1.729634 pvalue = 0.099909\n"
     ]
    }
   ],
   "source": [
    "# another\n",
    "n, (smin, smax), sm, sv, ss, sk = stats.describe(x)\n",
    "sstr = '%-14s mean = %6.4f, variance = %6.4f, skew = %6.4f, kurtosis = %6.4f, size = %f'\n",
    "print(sstr % ('sample:', sm, sv, ss, sk, n))\n",
    "tt = (sm - 173)/np.sqrt(sv/float(n))  # t-statistic for mean\n",
    "pval = stats.t.sf(np.abs(tt), n-1)*2  # two-sided pvalue = Prob(abs(t)>tt)\n",
    "print('t-statistic = %6.6f pvalue = %6.6f' % (tt, pval))"
   ]
  },
  {
   "cell_type": "code",
   "execution_count": 57,
   "metadata": {},
   "outputs": [],
   "source": [
    "# another, functions\n",
    "def t_test(x, m): # m is population mean (u : mu)\n",
    "    x = np.array(x)\n",
    "    n = x.size\n",
    "    sv = x.var(ddof = 1) # sv is sample variance\n",
    "    sm = x.mean() # sm is sample mean\n",
    "    t_statistic = (sm-m)/np.sqrt(sv/float(n)) # \n",
    "    \n",
    "    rv = stats.t(n-1)\n",
    "    pvalue = min ( rv.cdf(t_statistic) , 1 - rv.cdf(t_statistic) ) * 2\n",
    "    # or simply\n",
    "    # pvalue = stats.t.sf(np.abs(t), n-1)*2  # two-sided pvalue = Prob(abs(t)>tt)\n",
    "    return t_statistic, pvalue"
   ]
  },
  {
   "cell_type": "code",
   "execution_count": 58,
   "metadata": {},
   "outputs": [
    {
     "name": "stdout",
     "output_type": "stream",
     "text": [
      "t-statistic = -1.729634 pvalue = 0.099909\n"
     ]
    }
   ],
   "source": [
    "print('t-statistic = %6.6f pvalue = %6.6f' % t_test(x,173) )"
   ]
  },
  {
   "cell_type": "code",
   "execution_count": null,
   "metadata": {},
   "outputs": [],
   "source": []
  },
  {
   "cell_type": "code",
   "execution_count": 60,
   "metadata": {},
   "outputs": [
    {
     "name": "stdout",
     "output_type": "stream",
     "text": [
      "# Unpaired T-test(독립 표본 t-검정)\n"
     ]
    }
   ],
   "source": [
    "print(\"# Unpaired T-test(독립 표본 t-검정)\")"
   ]
  },
  {
   "cell_type": "code",
   "execution_count": 61,
   "metadata": {},
   "outputs": [
    {
     "data": {
      "text/plain": [
       "Ttest_indResult(statistic=-2.975034508185736, pvalue=0.004575417426774093)"
      ]
     },
     "execution_count": 61,
     "metadata": {},
     "output_type": "execute_result"
    }
   ],
   "source": [
    "heights1 = np.random.normal(loc=170, scale=5, size=20)\n",
    "heights2 = np.random.normal(loc=175, scale=10, size=30)\n",
    "stats.ttest_ind(heights1, heights2) # H0 => 두 집단의 평균이 같다"
   ]
  },
  {
   "cell_type": "code",
   "execution_count": null,
   "metadata": {},
   "outputs": [],
   "source": []
  },
  {
   "cell_type": "code",
   "execution_count": 62,
   "metadata": {},
   "outputs": [
    {
     "name": "stdout",
     "output_type": "stream",
     "text": [
      "# Paired T-test(대응 표본 t-검정)\n"
     ]
    }
   ],
   "source": [
    "print(\"# Paired T-test(대응 표본 t-검정)\")"
   ]
  },
  {
   "cell_type": "code",
   "execution_count": 66,
   "metadata": {},
   "outputs": [
    {
     "data": {
      "text/plain": [
       "Ttest_relResult(statistic=-9.978756995207744, pvalue=5.446380072416738e-09)"
      ]
     },
     "execution_count": 66,
     "metadata": {},
     "output_type": "execute_result"
    }
   ],
   "source": [
    "before = [170 + np.random.normal(0,5) for _ in range(20)]\n",
    "after = before + np.random.random(size=20)\n",
    "stats.ttest_rel(before, after) # H0 => 대응된 2 표본에 유의미한 차이가 없다 (변화가 없다)"
   ]
  },
  {
   "cell_type": "code",
   "execution_count": null,
   "metadata": {},
   "outputs": [],
   "source": []
  },
  {
   "cell_type": "code",
   "execution_count": 67,
   "metadata": {},
   "outputs": [
    {
     "name": "stdout",
     "output_type": "stream",
     "text": [
      "# 통계량으로 T-검정\n"
     ]
    }
   ],
   "source": [
    "print(\"# 통계량으로 T-검정\")"
   ]
  },
  {
   "cell_type": "code",
   "execution_count": 68,
   "metadata": {},
   "outputs": [
    {
     "data": {
      "text/plain": [
       "Ttest_indResult(statistic=-2.7877282097486784, pvalue=0.006875897429273035)"
      ]
     },
     "execution_count": 68,
     "metadata": {},
     "output_type": "execute_result"
    }
   ],
   "source": [
    "# 두 그룹 (평균, 표준편차, 관찰 수) 의 차이 검정 (H0 => 차이가 없다)\n",
    "stats.ttest_ind_from_stats(170,5,50, 175,10,20)"
   ]
  },
  {
   "cell_type": "code",
   "execution_count": null,
   "metadata": {},
   "outputs": [],
   "source": []
  }
 ],
 "metadata": {
  "kernelspec": {
   "display_name": "Python 3",
   "language": "python",
   "name": "python3"
  },
  "language_info": {
   "codemirror_mode": {
    "name": "ipython",
    "version": 3
   },
   "file_extension": ".py",
   "mimetype": "text/x-python",
   "name": "python",
   "nbconvert_exporter": "python",
   "pygments_lexer": "ipython3",
   "version": "3.8.5"
  }
 },
 "nbformat": 4,
 "nbformat_minor": 4
}
