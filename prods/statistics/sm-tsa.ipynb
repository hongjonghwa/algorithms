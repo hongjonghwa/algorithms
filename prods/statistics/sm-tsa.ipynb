{
 "cells": [
  {
   "cell_type": "code",
   "execution_count": 1,
   "metadata": {},
   "outputs": [
    {
     "name": "stdout",
     "output_type": "stream",
     "text": [
      "<class 'pandas.core.frame.DataFrame'>\n",
      "RangeIndex: 249 entries, 0 to 248\n",
      "Data columns (total 10 columns):\n",
      " #   Column    Non-Null Count  Dtype         \n",
      "---  ------    --------------  -----         \n",
      " 0   년/월/일     249 non-null    datetime64[ns]\n",
      " 1   종가        249 non-null    int64         \n",
      " 2   대비        249 non-null    int64         \n",
      " 3   거래량(주)    249 non-null    int64         \n",
      " 4   거래대금(원)   249 non-null    int64         \n",
      " 5   시가        249 non-null    int64         \n",
      " 6   고가        249 non-null    int64         \n",
      " 7   저가        249 non-null    int64         \n",
      " 8   시가총액(백만)  249 non-null    int64         \n",
      " 9   상장주식수(주)  249 non-null    int64         \n",
      "dtypes: datetime64[ns](1), int64(9)\n",
      "memory usage: 19.6 KB\n"
     ]
    }
   ],
   "source": [
    "import pandas as pd\n",
    "df = pd.read_csv(\"data/SEC_TS.csv\", encoding=\"CP949\", parse_dates=['년/월/일'], thousands=\",\")\n",
    "full_df = df.copy()\n",
    "df.info()"
   ]
  },
  {
   "cell_type": "code",
   "execution_count": 13,
   "metadata": {},
   "outputs": [
    {
     "data": {
      "text/html": [
       "<div>\n",
       "<style scoped>\n",
       "    .dataframe tbody tr th:only-of-type {\n",
       "        vertical-align: middle;\n",
       "    }\n",
       "\n",
       "    .dataframe tbody tr th {\n",
       "        vertical-align: top;\n",
       "    }\n",
       "\n",
       "    .dataframe thead th {\n",
       "        text-align: right;\n",
       "    }\n",
       "</style>\n",
       "<table border=\"1\" class=\"dataframe\">\n",
       "  <thead>\n",
       "    <tr style=\"text-align: right;\">\n",
       "      <th></th>\n",
       "      <th>년/월/일</th>\n",
       "      <th>종가</th>\n",
       "      <th>대비</th>\n",
       "      <th>거래량(주)</th>\n",
       "      <th>거래대금(원)</th>\n",
       "      <th>시가</th>\n",
       "      <th>고가</th>\n",
       "      <th>저가</th>\n",
       "      <th>시가총액(백만)</th>\n",
       "      <th>상장주식수(주)</th>\n",
       "    </tr>\n",
       "  </thead>\n",
       "  <tbody>\n",
       "    <tr>\n",
       "      <th>0</th>\n",
       "      <td>2020-10-22</td>\n",
       "      <td>60100</td>\n",
       "      <td>-800</td>\n",
       "      <td>14294095</td>\n",
       "      <td>858048333246</td>\n",
       "      <td>60300</td>\n",
       "      <td>60500</td>\n",
       "      <td>59800</td>\n",
       "      <td>358783931</td>\n",
       "      <td>5969782550</td>\n",
       "    </tr>\n",
       "    <tr>\n",
       "      <th>1</th>\n",
       "      <td>2020-10-21</td>\n",
       "      <td>60900</td>\n",
       "      <td>0</td>\n",
       "      <td>15703443</td>\n",
       "      <td>959154941000</td>\n",
       "      <td>61200</td>\n",
       "      <td>61500</td>\n",
       "      <td>60600</td>\n",
       "      <td>363559757</td>\n",
       "      <td>5969782550</td>\n",
       "    </tr>\n",
       "    <tr>\n",
       "      <th>2</th>\n",
       "      <td>2020-10-20</td>\n",
       "      <td>60900</td>\n",
       "      <td>900</td>\n",
       "      <td>19326115</td>\n",
       "      <td>1172317250906</td>\n",
       "      <td>60300</td>\n",
       "      <td>60900</td>\n",
       "      <td>60100</td>\n",
       "      <td>363559757</td>\n",
       "      <td>5969782550</td>\n",
       "    </tr>\n",
       "    <tr>\n",
       "      <th>3</th>\n",
       "      <td>2020-10-19</td>\n",
       "      <td>60000</td>\n",
       "      <td>500</td>\n",
       "      <td>14474985</td>\n",
       "      <td>867445905100</td>\n",
       "      <td>59600</td>\n",
       "      <td>60200</td>\n",
       "      <td>59500</td>\n",
       "      <td>358186953</td>\n",
       "      <td>5969782550</td>\n",
       "    </tr>\n",
       "    <tr>\n",
       "      <th>4</th>\n",
       "      <td>2020-10-16</td>\n",
       "      <td>59500</td>\n",
       "      <td>-500</td>\n",
       "      <td>16554190</td>\n",
       "      <td>987630872630</td>\n",
       "      <td>60000</td>\n",
       "      <td>60400</td>\n",
       "      <td>59000</td>\n",
       "      <td>355202062</td>\n",
       "      <td>5969782550</td>\n",
       "    </tr>\n",
       "    <tr>\n",
       "      <th>...</th>\n",
       "      <td>...</td>\n",
       "      <td>...</td>\n",
       "      <td>...</td>\n",
       "      <td>...</td>\n",
       "      <td>...</td>\n",
       "      <td>...</td>\n",
       "      <td>...</td>\n",
       "      <td>...</td>\n",
       "      <td>...</td>\n",
       "      <td>...</td>\n",
       "    </tr>\n",
       "    <tr>\n",
       "      <th>244</th>\n",
       "      <td>2019-10-28</td>\n",
       "      <td>51300</td>\n",
       "      <td>400</td>\n",
       "      <td>6431522</td>\n",
       "      <td>329526364800</td>\n",
       "      <td>50700</td>\n",
       "      <td>51500</td>\n",
       "      <td>50700</td>\n",
       "      <td>306249845</td>\n",
       "      <td>5969782550</td>\n",
       "    </tr>\n",
       "    <tr>\n",
       "      <th>245</th>\n",
       "      <td>2019-10-25</td>\n",
       "      <td>50900</td>\n",
       "      <td>200</td>\n",
       "      <td>7879897</td>\n",
       "      <td>400781388215</td>\n",
       "      <td>50800</td>\n",
       "      <td>51200</td>\n",
       "      <td>50500</td>\n",
       "      <td>303861932</td>\n",
       "      <td>5969782550</td>\n",
       "    </tr>\n",
       "    <tr>\n",
       "      <th>246</th>\n",
       "      <td>2019-10-24</td>\n",
       "      <td>50700</td>\n",
       "      <td>-500</td>\n",
       "      <td>21185785</td>\n",
       "      <td>1077416754960</td>\n",
       "      <td>52500</td>\n",
       "      <td>52500</td>\n",
       "      <td>50500</td>\n",
       "      <td>302667975</td>\n",
       "      <td>5969782550</td>\n",
       "    </tr>\n",
       "    <tr>\n",
       "      <th>247</th>\n",
       "      <td>2019-10-23</td>\n",
       "      <td>51200</td>\n",
       "      <td>0</td>\n",
       "      <td>8663880</td>\n",
       "      <td>443384578580</td>\n",
       "      <td>51300</td>\n",
       "      <td>51500</td>\n",
       "      <td>50800</td>\n",
       "      <td>305652867</td>\n",
       "      <td>5969782550</td>\n",
       "    </tr>\n",
       "    <tr>\n",
       "      <th>248</th>\n",
       "      <td>2019-10-22</td>\n",
       "      <td>51200</td>\n",
       "      <td>900</td>\n",
       "      <td>10898729</td>\n",
       "      <td>557128142700</td>\n",
       "      <td>50800</td>\n",
       "      <td>51500</td>\n",
       "      <td>50700</td>\n",
       "      <td>305652867</td>\n",
       "      <td>5969782550</td>\n",
       "    </tr>\n",
       "  </tbody>\n",
       "</table>\n",
       "<p>249 rows × 10 columns</p>\n",
       "</div>"
      ],
      "text/plain": [
       "         년/월/일     종가   대비    거래량(주)        거래대금(원)     시가     고가     저가  \\\n",
       "0   2020-10-22  60100 -800  14294095   858048333246  60300  60500  59800   \n",
       "1   2020-10-21  60900    0  15703443   959154941000  61200  61500  60600   \n",
       "2   2020-10-20  60900  900  19326115  1172317250906  60300  60900  60100   \n",
       "3   2020-10-19  60000  500  14474985   867445905100  59600  60200  59500   \n",
       "4   2020-10-16  59500 -500  16554190   987630872630  60000  60400  59000   \n",
       "..         ...    ...  ...       ...            ...    ...    ...    ...   \n",
       "244 2019-10-28  51300  400   6431522   329526364800  50700  51500  50700   \n",
       "245 2019-10-25  50900  200   7879897   400781388215  50800  51200  50500   \n",
       "246 2019-10-24  50700 -500  21185785  1077416754960  52500  52500  50500   \n",
       "247 2019-10-23  51200    0   8663880   443384578580  51300  51500  50800   \n",
       "248 2019-10-22  51200  900  10898729   557128142700  50800  51500  50700   \n",
       "\n",
       "      시가총액(백만)    상장주식수(주)  \n",
       "0    358783931  5969782550  \n",
       "1    363559757  5969782550  \n",
       "2    363559757  5969782550  \n",
       "3    358186953  5969782550  \n",
       "4    355202062  5969782550  \n",
       "..         ...         ...  \n",
       "244  306249845  5969782550  \n",
       "245  303861932  5969782550  \n",
       "246  302667975  5969782550  \n",
       "247  305652867  5969782550  \n",
       "248  305652867  5969782550  \n",
       "\n",
       "[249 rows x 10 columns]"
      ]
     },
     "execution_count": 13,
     "metadata": {},
     "output_type": "execute_result"
    }
   ],
   "source": [
    "df"
   ]
  },
  {
   "cell_type": "code",
   "execution_count": 50,
   "metadata": {},
   "outputs": [
    {
     "data": {
      "text/html": [
       "<div>\n",
       "<style scoped>\n",
       "    .dataframe tbody tr th:only-of-type {\n",
       "        vertical-align: middle;\n",
       "    }\n",
       "\n",
       "    .dataframe tbody tr th {\n",
       "        vertical-align: top;\n",
       "    }\n",
       "\n",
       "    .dataframe thead th {\n",
       "        text-align: right;\n",
       "    }\n",
       "</style>\n",
       "<table border=\"1\" class=\"dataframe\">\n",
       "  <thead>\n",
       "    <tr style=\"text-align: right;\">\n",
       "      <th></th>\n",
       "      <th>index</th>\n",
       "      <th>년/월/일</th>\n",
       "      <th>종가</th>\n",
       "      <th>대비</th>\n",
       "      <th>거래량(주)</th>\n",
       "      <th>거래대금(원)</th>\n",
       "      <th>시가</th>\n",
       "      <th>고가</th>\n",
       "      <th>저가</th>\n",
       "      <th>시가총액(백만)</th>\n",
       "      <th>상장주식수(주)</th>\n",
       "    </tr>\n",
       "  </thead>\n",
       "  <tbody>\n",
       "    <tr>\n",
       "      <th>0</th>\n",
       "      <td>248</td>\n",
       "      <td>2019-10-22</td>\n",
       "      <td>51200</td>\n",
       "      <td>900</td>\n",
       "      <td>10898729</td>\n",
       "      <td>557128142700</td>\n",
       "      <td>50800</td>\n",
       "      <td>51500</td>\n",
       "      <td>50700</td>\n",
       "      <td>305652867</td>\n",
       "      <td>5969782550</td>\n",
       "    </tr>\n",
       "    <tr>\n",
       "      <th>1</th>\n",
       "      <td>247</td>\n",
       "      <td>2019-10-23</td>\n",
       "      <td>51200</td>\n",
       "      <td>0</td>\n",
       "      <td>8663880</td>\n",
       "      <td>443384578580</td>\n",
       "      <td>51300</td>\n",
       "      <td>51500</td>\n",
       "      <td>50800</td>\n",
       "      <td>305652867</td>\n",
       "      <td>5969782550</td>\n",
       "    </tr>\n",
       "    <tr>\n",
       "      <th>2</th>\n",
       "      <td>246</td>\n",
       "      <td>2019-10-24</td>\n",
       "      <td>50700</td>\n",
       "      <td>-500</td>\n",
       "      <td>21185785</td>\n",
       "      <td>1077416754960</td>\n",
       "      <td>52500</td>\n",
       "      <td>52500</td>\n",
       "      <td>50500</td>\n",
       "      <td>302667975</td>\n",
       "      <td>5969782550</td>\n",
       "    </tr>\n",
       "    <tr>\n",
       "      <th>3</th>\n",
       "      <td>245</td>\n",
       "      <td>2019-10-25</td>\n",
       "      <td>50900</td>\n",
       "      <td>200</td>\n",
       "      <td>7879897</td>\n",
       "      <td>400781388215</td>\n",
       "      <td>50800</td>\n",
       "      <td>51200</td>\n",
       "      <td>50500</td>\n",
       "      <td>303861932</td>\n",
       "      <td>5969782550</td>\n",
       "    </tr>\n",
       "    <tr>\n",
       "      <th>4</th>\n",
       "      <td>244</td>\n",
       "      <td>2019-10-28</td>\n",
       "      <td>51300</td>\n",
       "      <td>400</td>\n",
       "      <td>6431522</td>\n",
       "      <td>329526364800</td>\n",
       "      <td>50700</td>\n",
       "      <td>51500</td>\n",
       "      <td>50700</td>\n",
       "      <td>306249845</td>\n",
       "      <td>5969782550</td>\n",
       "    </tr>\n",
       "    <tr>\n",
       "      <th>5</th>\n",
       "      <td>243</td>\n",
       "      <td>2019-10-29</td>\n",
       "      <td>51100</td>\n",
       "      <td>-200</td>\n",
       "      <td>7581629</td>\n",
       "      <td>387754807400</td>\n",
       "      <td>51400</td>\n",
       "      <td>51700</td>\n",
       "      <td>50800</td>\n",
       "      <td>305055888</td>\n",
       "      <td>5969782550</td>\n",
       "    </tr>\n",
       "    <tr>\n",
       "      <th>6</th>\n",
       "      <td>242</td>\n",
       "      <td>2019-10-30</td>\n",
       "      <td>50400</td>\n",
       "      <td>-700</td>\n",
       "      <td>8959435</td>\n",
       "      <td>452020459800</td>\n",
       "      <td>50700</td>\n",
       "      <td>50800</td>\n",
       "      <td>50200</td>\n",
       "      <td>300877041</td>\n",
       "      <td>5969782550</td>\n",
       "    </tr>\n",
       "    <tr>\n",
       "      <th>7</th>\n",
       "      <td>241</td>\n",
       "      <td>2019-10-31</td>\n",
       "      <td>50400</td>\n",
       "      <td>0</td>\n",
       "      <td>10304777</td>\n",
       "      <td>525166427240</td>\n",
       "      <td>51000</td>\n",
       "      <td>51400</td>\n",
       "      <td>50300</td>\n",
       "      <td>300877041</td>\n",
       "      <td>5969782550</td>\n",
       "    </tr>\n",
       "    <tr>\n",
       "      <th>8</th>\n",
       "      <td>240</td>\n",
       "      <td>2019-11-01</td>\n",
       "      <td>51200</td>\n",
       "      <td>800</td>\n",
       "      <td>8467846</td>\n",
       "      <td>422791080695</td>\n",
       "      <td>50600</td>\n",
       "      <td>51200</td>\n",
       "      <td>50400</td>\n",
       "      <td>305652867</td>\n",
       "      <td>5969782550</td>\n",
       "    </tr>\n",
       "    <tr>\n",
       "      <th>9</th>\n",
       "      <td>239</td>\n",
       "      <td>2019-11-04</td>\n",
       "      <td>52300</td>\n",
       "      <td>1100</td>\n",
       "      <td>13012411</td>\n",
       "      <td>677400213024</td>\n",
       "      <td>51700</td>\n",
       "      <td>52300</td>\n",
       "      <td>51400</td>\n",
       "      <td>312219627</td>\n",
       "      <td>5969782550</td>\n",
       "    </tr>\n",
       "    <tr>\n",
       "      <th>10</th>\n",
       "      <td>238</td>\n",
       "      <td>2019-11-05</td>\n",
       "      <td>52700</td>\n",
       "      <td>400</td>\n",
       "      <td>10581034</td>\n",
       "      <td>555449246731</td>\n",
       "      <td>52400</td>\n",
       "      <td>52700</td>\n",
       "      <td>52100</td>\n",
       "      <td>314607540</td>\n",
       "      <td>5969782550</td>\n",
       "    </tr>\n",
       "    <tr>\n",
       "      <th>11</th>\n",
       "      <td>237</td>\n",
       "      <td>2019-11-06</td>\n",
       "      <td>53300</td>\n",
       "      <td>600</td>\n",
       "      <td>14361133</td>\n",
       "      <td>762569938800</td>\n",
       "      <td>52900</td>\n",
       "      <td>53500</td>\n",
       "      <td>52700</td>\n",
       "      <td>318189410</td>\n",
       "      <td>5969782550</td>\n",
       "    </tr>\n",
       "    <tr>\n",
       "      <th>12</th>\n",
       "      <td>236</td>\n",
       "      <td>2019-11-07</td>\n",
       "      <td>52900</td>\n",
       "      <td>-400</td>\n",
       "      <td>9257116</td>\n",
       "      <td>488509940000</td>\n",
       "      <td>53400</td>\n",
       "      <td>53400</td>\n",
       "      <td>52400</td>\n",
       "      <td>315801497</td>\n",
       "      <td>5969782550</td>\n",
       "    </tr>\n",
       "    <tr>\n",
       "      <th>13</th>\n",
       "      <td>235</td>\n",
       "      <td>2019-11-08</td>\n",
       "      <td>52100</td>\n",
       "      <td>-800</td>\n",
       "      <td>11603290</td>\n",
       "      <td>610282480568</td>\n",
       "      <td>53200</td>\n",
       "      <td>53300</td>\n",
       "      <td>52000</td>\n",
       "      <td>311025671</td>\n",
       "      <td>5969782550</td>\n",
       "    </tr>\n",
       "    <tr>\n",
       "      <th>14</th>\n",
       "      <td>234</td>\n",
       "      <td>2019-11-11</td>\n",
       "      <td>51600</td>\n",
       "      <td>-500</td>\n",
       "      <td>8185952</td>\n",
       "      <td>423836375400</td>\n",
       "      <td>52200</td>\n",
       "      <td>52200</td>\n",
       "      <td>51400</td>\n",
       "      <td>308040780</td>\n",
       "      <td>5969782550</td>\n",
       "    </tr>\n",
       "    <tr>\n",
       "      <th>15</th>\n",
       "      <td>233</td>\n",
       "      <td>2019-11-12</td>\n",
       "      <td>52600</td>\n",
       "      <td>1000</td>\n",
       "      <td>6576148</td>\n",
       "      <td>342965962768</td>\n",
       "      <td>51800</td>\n",
       "      <td>52600</td>\n",
       "      <td>51600</td>\n",
       "      <td>314010562</td>\n",
       "      <td>5969782550</td>\n",
       "    </tr>\n",
       "    <tr>\n",
       "      <th>16</th>\n",
       "      <td>232</td>\n",
       "      <td>2019-11-13</td>\n",
       "      <td>52500</td>\n",
       "      <td>-100</td>\n",
       "      <td>6225196</td>\n",
       "      <td>325646010400</td>\n",
       "      <td>52500</td>\n",
       "      <td>52500</td>\n",
       "      <td>52000</td>\n",
       "      <td>313413584</td>\n",
       "      <td>5969782550</td>\n",
       "    </tr>\n",
       "    <tr>\n",
       "      <th>17</th>\n",
       "      <td>231</td>\n",
       "      <td>2019-11-14</td>\n",
       "      <td>52800</td>\n",
       "      <td>300</td>\n",
       "      <td>12010018</td>\n",
       "      <td>630539802800</td>\n",
       "      <td>51900</td>\n",
       "      <td>52800</td>\n",
       "      <td>51900</td>\n",
       "      <td>315204519</td>\n",
       "      <td>5969782550</td>\n",
       "    </tr>\n",
       "    <tr>\n",
       "      <th>18</th>\n",
       "      <td>230</td>\n",
       "      <td>2019-11-15</td>\n",
       "      <td>53700</td>\n",
       "      <td>900</td>\n",
       "      <td>9703360</td>\n",
       "      <td>518314735700</td>\n",
       "      <td>52900</td>\n",
       "      <td>53700</td>\n",
       "      <td>52600</td>\n",
       "      <td>320577323</td>\n",
       "      <td>5969782550</td>\n",
       "    </tr>\n",
       "    <tr>\n",
       "      <th>19</th>\n",
       "      <td>229</td>\n",
       "      <td>2019-11-18</td>\n",
       "      <td>53500</td>\n",
       "      <td>-200</td>\n",
       "      <td>7746554</td>\n",
       "      <td>414198897643</td>\n",
       "      <td>53600</td>\n",
       "      <td>53800</td>\n",
       "      <td>53200</td>\n",
       "      <td>319383366</td>\n",
       "      <td>5969782550</td>\n",
       "    </tr>\n",
       "    <tr>\n",
       "      <th>20</th>\n",
       "      <td>228</td>\n",
       "      <td>2019-11-19</td>\n",
       "      <td>53500</td>\n",
       "      <td>0</td>\n",
       "      <td>8907177</td>\n",
       "      <td>473053167900</td>\n",
       "      <td>53200</td>\n",
       "      <td>53500</td>\n",
       "      <td>52700</td>\n",
       "      <td>319383366</td>\n",
       "      <td>5969782550</td>\n",
       "    </tr>\n",
       "    <tr>\n",
       "      <th>21</th>\n",
       "      <td>227</td>\n",
       "      <td>2019-11-20</td>\n",
       "      <td>52000</td>\n",
       "      <td>-1500</td>\n",
       "      <td>12560070</td>\n",
       "      <td>659160082100</td>\n",
       "      <td>53400</td>\n",
       "      <td>53400</td>\n",
       "      <td>52000</td>\n",
       "      <td>310428693</td>\n",
       "      <td>5969782550</td>\n",
       "    </tr>\n",
       "    <tr>\n",
       "      <th>22</th>\n",
       "      <td>226</td>\n",
       "      <td>2019-11-21</td>\n",
       "      <td>51000</td>\n",
       "      <td>-1000</td>\n",
       "      <td>14298646</td>\n",
       "      <td>729351449095</td>\n",
       "      <td>51600</td>\n",
       "      <td>52100</td>\n",
       "      <td>50600</td>\n",
       "      <td>304458910</td>\n",
       "      <td>5969782550</td>\n",
       "    </tr>\n",
       "    <tr>\n",
       "      <th>23</th>\n",
       "      <td>225</td>\n",
       "      <td>2019-11-22</td>\n",
       "      <td>51600</td>\n",
       "      <td>600</td>\n",
       "      <td>8478310</td>\n",
       "      <td>435737139400</td>\n",
       "      <td>51000</td>\n",
       "      <td>51600</td>\n",
       "      <td>50900</td>\n",
       "      <td>308040780</td>\n",
       "      <td>5969782550</td>\n",
       "    </tr>\n",
       "    <tr>\n",
       "      <th>24</th>\n",
       "      <td>224</td>\n",
       "      <td>2019-11-25</td>\n",
       "      <td>51800</td>\n",
       "      <td>200</td>\n",
       "      <td>9050625</td>\n",
       "      <td>472175585364</td>\n",
       "      <td>52200</td>\n",
       "      <td>52600</td>\n",
       "      <td>51700</td>\n",
       "      <td>309234736</td>\n",
       "      <td>5969782550</td>\n",
       "    </tr>\n",
       "  </tbody>\n",
       "</table>\n",
       "</div>"
      ],
      "text/plain": [
       "    index      년/월/일     종가    대비    거래량(주)        거래대금(원)     시가     고가  \\\n",
       "0     248 2019-10-22  51200   900  10898729   557128142700  50800  51500   \n",
       "1     247 2019-10-23  51200     0   8663880   443384578580  51300  51500   \n",
       "2     246 2019-10-24  50700  -500  21185785  1077416754960  52500  52500   \n",
       "3     245 2019-10-25  50900   200   7879897   400781388215  50800  51200   \n",
       "4     244 2019-10-28  51300   400   6431522   329526364800  50700  51500   \n",
       "5     243 2019-10-29  51100  -200   7581629   387754807400  51400  51700   \n",
       "6     242 2019-10-30  50400  -700   8959435   452020459800  50700  50800   \n",
       "7     241 2019-10-31  50400     0  10304777   525166427240  51000  51400   \n",
       "8     240 2019-11-01  51200   800   8467846   422791080695  50600  51200   \n",
       "9     239 2019-11-04  52300  1100  13012411   677400213024  51700  52300   \n",
       "10    238 2019-11-05  52700   400  10581034   555449246731  52400  52700   \n",
       "11    237 2019-11-06  53300   600  14361133   762569938800  52900  53500   \n",
       "12    236 2019-11-07  52900  -400   9257116   488509940000  53400  53400   \n",
       "13    235 2019-11-08  52100  -800  11603290   610282480568  53200  53300   \n",
       "14    234 2019-11-11  51600  -500   8185952   423836375400  52200  52200   \n",
       "15    233 2019-11-12  52600  1000   6576148   342965962768  51800  52600   \n",
       "16    232 2019-11-13  52500  -100   6225196   325646010400  52500  52500   \n",
       "17    231 2019-11-14  52800   300  12010018   630539802800  51900  52800   \n",
       "18    230 2019-11-15  53700   900   9703360   518314735700  52900  53700   \n",
       "19    229 2019-11-18  53500  -200   7746554   414198897643  53600  53800   \n",
       "20    228 2019-11-19  53500     0   8907177   473053167900  53200  53500   \n",
       "21    227 2019-11-20  52000 -1500  12560070   659160082100  53400  53400   \n",
       "22    226 2019-11-21  51000 -1000  14298646   729351449095  51600  52100   \n",
       "23    225 2019-11-22  51600   600   8478310   435737139400  51000  51600   \n",
       "24    224 2019-11-25  51800   200   9050625   472175585364  52200  52600   \n",
       "\n",
       "       저가   시가총액(백만)    상장주식수(주)  \n",
       "0   50700  305652867  5969782550  \n",
       "1   50800  305652867  5969782550  \n",
       "2   50500  302667975  5969782550  \n",
       "3   50500  303861932  5969782550  \n",
       "4   50700  306249845  5969782550  \n",
       "5   50800  305055888  5969782550  \n",
       "6   50200  300877041  5969782550  \n",
       "7   50300  300877041  5969782550  \n",
       "8   50400  305652867  5969782550  \n",
       "9   51400  312219627  5969782550  \n",
       "10  52100  314607540  5969782550  \n",
       "11  52700  318189410  5969782550  \n",
       "12  52400  315801497  5969782550  \n",
       "13  52000  311025671  5969782550  \n",
       "14  51400  308040780  5969782550  \n",
       "15  51600  314010562  5969782550  \n",
       "16  52000  313413584  5969782550  \n",
       "17  51900  315204519  5969782550  \n",
       "18  52600  320577323  5969782550  \n",
       "19  53200  319383366  5969782550  \n",
       "20  52700  319383366  5969782550  \n",
       "21  52000  310428693  5969782550  \n",
       "22  50600  304458910  5969782550  \n",
       "23  50900  308040780  5969782550  \n",
       "24  51700  309234736  5969782550  "
      ]
     },
     "execution_count": 50,
     "metadata": {},
     "output_type": "execute_result"
    }
   ],
   "source": [
    "df = df.sort_values(\"년/월/일\").head(25).reset_index()\n",
    "df"
   ]
  },
  {
   "cell_type": "code",
   "execution_count": null,
   "metadata": {},
   "outputs": [],
   "source": [
    "# 지수평활법: Exponential Smoothing\n",
    "단순 지수평활법 (Single Exponential Smoothing)은 다음 예측치 (St)를 현재 값 (yt−1)과 이전 예측치(St−1)의 합산으로 계산합니다. \n",
    "알파(α)는 0보다 크고 1보다 작은 스무딩 매개변수입니다:\n",
    "St = α yt−1 + (1−α) St−1"
   ]
  },
  {
   "cell_type": "code",
   "execution_count": 59,
   "metadata": {},
   "outputs": [],
   "source": [
    "y_pred = df['종가'].ewm(alpha=.2).mean()"
   ]
  },
  {
   "cell_type": "code",
   "execution_count": 60,
   "metadata": {},
   "outputs": [],
   "source": [
    "y_true = df['종가'].to_numpy()"
   ]
  },
  {
   "cell_type": "code",
   "execution_count": 63,
   "metadata": {},
   "outputs": [
    {
     "name": "stdout",
     "output_type": "stream",
     "text": [
      "MAE 537.3642775745059\n"
     ]
    },
    {
     "data": {
      "image/png": "[encoded data removed]",
      "text/plain": [
       "<Figure size 432x288 with 1 Axes>"
      ]
     },
     "metadata": {
      "needs_background": "light"
     },
     "output_type": "display_data"
    }
   ],
   "source": [
    "import matplotlib.pyplot as plt\n",
    "plt.plot(y_true), plt.plot(y_pred)\n",
    "from sklearn.metrics import mean_absolute_error\n",
    "print(\"MAE\", mean_absolute_error(y_true,y_pred))"
   ]
  },
  {
   "cell_type": "code",
   "execution_count": 64,
   "metadata": {},
   "outputs": [
    {
     "name": "stdout",
     "output_type": "stream",
     "text": [
      "MAE 715.139610722462\n"
     ]
    },
    {
     "data": {
      "image/png": "[encoded data removed]",
      "text/plain": [
       "<Figure size 432x288 with 1 Axes>"
      ]
     },
     "metadata": {
      "needs_background": "light"
     },
     "output_type": "display_data"
    }
   ],
   "source": [
    "y_pred = df['종가'].ewm(alpha=.001).mean()\n",
    "plt.plot(y_true), plt.plot(y_pred)\n",
    "print(\"MAE\", mean_absolute_error(y_true,y_pred))"
   ]
  },
  {
   "cell_type": "code",
   "execution_count": 65,
   "metadata": {},
   "outputs": [
    {
     "name": "stdout",
     "output_type": "stream",
     "text": [
      "MAE 282.64218074753705\n"
     ]
    },
    {
     "data": {
      "image/png": "[encoded data removed]",
      "text/plain": [
       "<Figure size 432x288 with 1 Axes>"
      ]
     },
     "metadata": {
      "needs_background": "light"
     },
     "output_type": "display_data"
    }
   ],
   "source": [
    "y_pred = df['종가'].ewm(alpha=.5).mean()\n",
    "plt.plot(y_true), plt.plot(y_pred)\n",
    "print(\"MAE\", mean_absolute_error(y_true,y_pred))"
   ]
  },
  {
   "cell_type": "code",
   "execution_count": 66,
   "metadata": {},
   "outputs": [
    {
     "data": {
      "text/html": [
       "<img src=\"https://www.gstatic.com/education/formulas2/355397047/en/mean_absolute_error.svg\"/>"
      ],
      "text/plain": [
       "<IPython.core.display.Image object>"
      ]
     },
     "execution_count": 66,
     "metadata": {},
     "output_type": "execute_result"
    }
   ],
   "source": [
    "from IPython  import display\n",
    "display.Image(url=\"https://www.gstatic.com/education/formulas2/355397047/en/mean_absolute_error.svg\")"
   ]
  },
  {
   "cell_type": "code",
   "execution_count": 67,
   "metadata": {},
   "outputs": [
    {
     "data": {
      "text/plain": [
       "282.64218074753705"
      ]
     },
     "execution_count": 67,
     "metadata": {},
     "output_type": "execute_result"
    }
   ],
   "source": [
    "from sklearn.metrics import mean_absolute_error\n",
    "mean_absolute_error(y_true,y_pred)"
   ]
  },
  {
   "cell_type": "code",
   "execution_count": 79,
   "metadata": {},
   "outputs": [
    {
     "data": {
      "text/plain": [
       "282.64218074753705"
      ]
     },
     "execution_count": 79,
     "metadata": {},
     "output_type": "execute_result"
    }
   ],
   "source": [
    "import numpy as np\n",
    "np.abs(y_true - y_pred).mean()"
   ]
  },
  {
   "cell_type": "code",
   "execution_count": 74,
   "metadata": {},
   "outputs": [
    {
     "name": "stdout",
     "output_type": "stream",
     "text": [
      "\n",
      "M  = mean absolute percentage error\n",
      "n  = number of times the summation iteration happens\n",
      "At = actual value\n",
      "Ft = forecast value\n",
      "\n"
     ]
    },
    {
     "data": {
      "text/html": [
       "<img src=\"https://www.gstatic.com/education/formulas2/355397047/en/mean_absolute_percentage_error.svg\"/>"
      ],
      "text/plain": [
       "<IPython.core.display.Image object>"
      ]
     },
     "execution_count": 74,
     "metadata": {},
     "output_type": "execute_result"
    }
   ],
   "source": [
    "from IPython  import display\n",
    "\n",
    "print(\"\"\"\n",
    "M  = mean absolute percentage error\n",
    "n  = number of times the summation iteration happens\n",
    "At = actual value\n",
    "Ft = forecast value\n",
    "\"\"\")\n",
    "display.Image(url=\"https://www.gstatic.com/education/formulas2/355397047/en/mean_absolute_percentage_error.svg\")"
   ]
  },
  {
   "cell_type": "code",
   "execution_count": 82,
   "metadata": {},
   "outputs": [
    {
     "data": {
      "text/plain": [
       "'0.23.2'"
      ]
     },
     "execution_count": 82,
     "metadata": {},
     "output_type": "execute_result"
    }
   ],
   "source": [
    "import sklearn\n",
    "sklearn.__version__"
   ]
  },
  {
   "cell_type": "code",
   "execution_count": 72,
   "metadata": {},
   "outputs": [
    {
     "ename": "ImportError",
     "evalue": "cannot import name 'mean_absolute_percentage_error' from 'sklearn.metrics' (/home/ubuntu/anaconda3/lib/python3.8/site-packages/sklearn/metrics/__init__.py)",
     "output_type": "error",
     "traceback": [
      "\u001b[0;31m---------------------------------------------------------------------------\u001b[0m",
      "\u001b[0;31mImportError\u001b[0m                               Traceback (most recent call last)",
      "\u001b[0;32m<ipython-input-72-52d63eb1e0e8>\u001b[0m in \u001b[0;36m<module>\u001b[0;34m\u001b[0m\n\u001b[0;32m----> 1\u001b[0;31m \u001b[0;32mfrom\u001b[0m \u001b[0msklearn\u001b[0m\u001b[0;34m.\u001b[0m\u001b[0mmetrics\u001b[0m \u001b[0;32mimport\u001b[0m \u001b[0mmean_absolute_percentage_error\u001b[0m\u001b[0;34m\u001b[0m\u001b[0;34m\u001b[0m\u001b[0m\n\u001b[0m\u001b[1;32m      2\u001b[0m \u001b[0mmean_absolute_percentage_error\u001b[0m\u001b[0;34m(\u001b[0m\u001b[0my_true\u001b[0m\u001b[0;34m,\u001b[0m\u001b[0my_pred\u001b[0m\u001b[0;34m)\u001b[0m\u001b[0;34m\u001b[0m\u001b[0;34m\u001b[0m\u001b[0m\n",
      "\u001b[0;31mImportError\u001b[0m: cannot import name 'mean_absolute_percentage_error' from 'sklearn.metrics' (/home/ubuntu/anaconda3/lib/python3.8/site-packages/sklearn/metrics/__init__.py)"
     ]
    }
   ],
   "source": [
    " # sklearn 0.24 over\n",
    "from sklearn.metrics import mean_absolute_percentage_error\n",
    "mean_absolute_percentage_error(y_true,y_pred)"
   ]
  },
  {
   "cell_type": "code",
   "execution_count": 77,
   "metadata": {},
   "outputs": [
    {
     "data": {
      "text/plain": [
       "0.5428945684821397"
      ]
     },
     "execution_count": 77,
     "metadata": {},
     "output_type": "execute_result"
    }
   ],
   "source": [
    "np.abs( ( y_true - y_pred) / y_true).mean()  * 100"
   ]
  },
  {
   "cell_type": "code",
   "execution_count": null,
   "metadata": {},
   "outputs": [],
   "source": []
  },
  {
   "cell_type": "code",
   "execution_count": 88,
   "metadata": {},
   "outputs": [
    {
     "data": {
      "text/plain": [
       "0.7913883564803892"
      ]
     },
     "execution_count": 88,
     "metadata": {},
     "output_type": "execute_result"
    }
   ],
   "source": [
    "autocorr = df['종가'].autocorr()\n",
    "autocorr"
   ]
  },
  {
   "cell_type": "code",
   "execution_count": 90,
   "metadata": {},
   "outputs": [
    {
     "data": {
      "text/plain": [
       "0.2043633826901551"
      ]
     },
     "execution_count": 90,
     "metadata": {},
     "output_type": "execute_result"
    }
   ],
   "source": [
    "autocorr = df['종가'].autocorr(3)\n",
    "autocorr"
   ]
  },
  {
   "cell_type": "code",
   "execution_count": null,
   "metadata": {},
   "outputs": [],
   "source": []
  },
  {
   "cell_type": "code",
   "execution_count": 2,
   "metadata": {},
   "outputs": [
    {
     "data": {
      "text/plain": [
       "<statsmodels.tsa.seasonal.DecomposeResult at 0x7fc657ccdfd0>"
      ]
     },
     "execution_count": 2,
     "metadata": {},
     "output_type": "execute_result"
    }
   ],
   "source": [
    "from statsmodels.tsa.seasonal import seasonal_decompose\n",
    "\n",
    "ret = seasonal_decompose(full_df['종가'], model=\"m\", period=30) # model 'm' is multiplicative ( 'a' is additive)\n",
    "ret"
   ]
  },
  {
   "cell_type": "code",
   "execution_count": 11,
   "metadata": {},
   "outputs": [
    {
     "data": {
      "image/png": "[encoded data removed]",
      "text/plain": [
       "<Figure size 432x288 with 4 Axes>"
      ]
     },
     "execution_count": 11,
     "metadata": {},
     "output_type": "execute_result"
    },
    {
     "data": {
      "image/png": "[encoded data removed]",
      "text/plain": [
       "<Figure size 432x288 with 4 Axes>"
      ]
     },
     "metadata": {
      "needs_background": "light"
     },
     "output_type": "display_data"
    }
   ],
   "source": [
    "import matplotlib.pyplot as plt\n",
    "plt.rc('font', family='Malgun Gothic') # windows\n",
    "# plt.rc('font', family='Nanum Gothic') # ubuntu x win\n",
    "\n",
    "ret.plot()"
   ]
  },
  {
   "cell_type": "code",
   "execution_count": 8,
   "metadata": {},
   "outputs": [
    {
     "name": "stdout",
     "output_type": "stream",
     "text": [
      "0\n"
     ]
    },
    {
     "data": {
      "text/plain": [
       "[]"
      ]
     },
     "execution_count": 8,
     "metadata": {},
     "output_type": "execute_result"
    }
   ],
   "source": [
    "# 사용가능한 시스템의 TTF 폰트 목록\n",
    "import matplotlib.font_manager as font_manager\n",
    "\n",
    "font_list = font_manager.findSystemFonts(fontpaths=None, fontext='ttf')\n",
    "print(len(font_list))\n",
    "font_list"
   ]
  },
  {
   "cell_type": "code",
   "execution_count": null,
   "metadata": {},
   "outputs": [],
   "source": []
  }
 ],
 "metadata": {
  "kernelspec": {
   "display_name": "Python 3",
   "language": "python",
   "name": "python3"
  },
  "language_info": {
   "codemirror_mode": {
    "name": "ipython",
    "version": 3
   },
   "file_extension": ".py",
   "mimetype": "text/x-python",
   "name": "python",
   "nbconvert_exporter": "python",
   "pygments_lexer": "ipython3",
   "version": "3.8.5"
  }
 },
 "nbformat": 4,
 "nbformat_minor": 4
}
