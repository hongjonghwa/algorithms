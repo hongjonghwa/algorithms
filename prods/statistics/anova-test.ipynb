{
 "cells": [
  {
   "cell_type": "code",
   "execution_count": null,
   "metadata": {},
   "outputs": [],
   "source": [
    "# https://partrita.github.io/posts/ANOVA-python/\n",
    "\n",
    "# ANOVA (ANalysis Of VAriance; 분산 분석)\n",
    "# => 여러 그룹간의 평균의 차이가 통계적으로 유의미 한지를 판단하기 위한 시험법입니다. \n",
    "#    T-test 처럼 말이죠. 하지만 그룹의 수가 2개 이상일때 사용한다는 점이 다른점이죠.\n",
    "\n",
    "# 분산분석에는 다음과 같은 3가지의 조건이 필요해요.\n",
    "\n",
    "# 정규성 : 각각의 그룹에서 변인은 정규분포.\n",
    "# 분산의 동질성 : Y의 모집단 분산은 각각의 모집단에서 동일.\n",
    "# 관찰의 독립성: 각각의 모집단에서 크기가 각각인 표본들이 독립적으로 표집.\n"
   ]
  },
  {
   "cell_type": "code",
   "execution_count": 1,
   "metadata": {},
   "outputs": [],
   "source": [
    "import numpy as np"
   ]
  },
  {
   "cell_type": "code",
   "execution_count": 3,
   "metadata": {},
   "outputs": [
    {
     "data": {
      "text/plain": [
       "array([[243.,   1.],\n",
       "       [251.,   1.],\n",
       "       [275.,   1.],\n",
       "       [291.,   1.],\n",
       "       [347.,   1.],\n",
       "       [354.,   1.],\n",
       "       [380.,   1.],\n",
       "       [392.,   1.],\n",
       "       [206.,   2.],\n",
       "       [210.,   2.],\n",
       "       [226.,   2.],\n",
       "       [249.,   2.],\n",
       "       [255.,   2.],\n",
       "       [273.,   2.],\n",
       "       [285.,   2.],\n",
       "       [295.,   2.],\n",
       "       [309.,   2.],\n",
       "       [241.,   3.],\n",
       "       [258.,   3.],\n",
       "       [270.,   3.],\n",
       "       [293.,   3.],\n",
       "       [328.,   3.]])"
      ]
     },
     "execution_count": 3,
     "metadata": {},
     "output_type": "execute_result"
    }
   ],
   "source": [
    "x = np.genfromtxt(\"data/altman_910.txt\", delimiter=\",\")\n",
    "x"
   ]
  },
  {
   "cell_type": "code",
   "execution_count": null,
   "metadata": {},
   "outputs": [],
   "source": [
    "group1 = data[data[:, 1] == 1, 0]\n",
    "group2 = data[data[:, 1] == 2, 0]\n",
    "group3 = data[data[:, 1] == 3, 0]"
   ]
  },
  {
   "cell_type": "code",
   "execution_count": 5,
   "metadata": {},
   "outputs": [
    {
     "data": {
      "text/plain": [
       "array([ True,  True,  True,  True,  True,  True,  True,  True, False,\n",
       "       False, False, False, False, False, False, False, False, False,\n",
       "       False, False, False, False])"
      ]
     },
     "execution_count": 5,
     "metadata": {},
     "output_type": "execute_result"
    }
   ],
   "source": [
    "x[:, 1] == 1"
   ]
  },
  {
   "cell_type": "code",
   "execution_count": 10,
   "metadata": {},
   "outputs": [
    {
     "data": {
      "text/plain": [
       "array([243., 251., 275., 291., 347., 354., 380., 392.])"
      ]
     },
     "execution_count": 10,
     "metadata": {},
     "output_type": "execute_result"
    }
   ],
   "source": []
  },
  {
   "cell_type": "code",
   "execution_count": 12,
   "metadata": {},
   "outputs": [
    {
     "data": {
      "text/plain": [
       "(array([243., 251., 275., 291., 347., 354., 380., 392.]),\n",
       " array([206., 210., 226., 249., 255., 273., 285., 295., 309.]),\n",
       " array([241., 258., 270., 293., 328.]))"
      ]
     },
     "execution_count": 12,
     "metadata": {},
     "output_type": "execute_result"
    }
   ],
   "source": [
    "group1 = x[x[:, 1] == 1, 0]\n",
    "group2 = x[x[:, 1] == 2, 0]\n",
    "group3 = x[x[:, 1] == 3, 0]\n",
    "group1, group2, group3"
   ]
  },
  {
   "cell_type": "code",
   "execution_count": 17,
   "metadata": {},
   "outputs": [
    {
     "data": {
      "text/plain": [
       "{'whiskers': [<matplotlib.lines.Line2D at 0x7f6e5ef11a90>,\n",
       "  <matplotlib.lines.Line2D at 0x7f6e5ef11df0>,\n",
       "  <matplotlib.lines.Line2D at 0x7f6e5ef2c2e0>,\n",
       "  <matplotlib.lines.Line2D at 0x7f6e5ef2c640>,\n",
       "  <matplotlib.lines.Line2D at 0x7f6e5eeb7ac0>,\n",
       "  <matplotlib.lines.Line2D at 0x7f6e5eeb7e20>],\n",
       " 'caps': [<matplotlib.lines.Line2D at 0x7f6e5ef22190>,\n",
       "  <matplotlib.lines.Line2D at 0x7f6e5ef22520>,\n",
       "  <matplotlib.lines.Line2D at 0x7f6e5ef2c9a0>,\n",
       "  <matplotlib.lines.Line2D at 0x7f6e5ef2cd00>,\n",
       "  <matplotlib.lines.Line2D at 0x7f6e5eec41c0>,\n",
       "  <matplotlib.lines.Line2D at 0x7f6e5eec4520>],\n",
       " 'boxes': [<matplotlib.lines.Line2D at 0x7f6e5ef11730>,\n",
       "  <matplotlib.lines.Line2D at 0x7f6e5ef22f40>,\n",
       "  <matplotlib.lines.Line2D at 0x7f6e5eeb7760>],\n",
       " 'medians': [<matplotlib.lines.Line2D at 0x7f6e5ef22880>,\n",
       "  <matplotlib.lines.Line2D at 0x7f6e5eeb70a0>,\n",
       "  <matplotlib.lines.Line2D at 0x7f6e5eec4880>],\n",
       " 'fliers': [<matplotlib.lines.Line2D at 0x7f6e5ef22be0>,\n",
       "  <matplotlib.lines.Line2D at 0x7f6e5eeb7400>,\n",
       "  <matplotlib.lines.Line2D at 0x7f6e5eec4be0>],\n",
       " 'means': []}"
      ]
     },
     "execution_count": 17,
     "metadata": {},
     "output_type": "execute_result"
    },
    {
     "data": {
      "image/png": "[encoded data removed]",
      "text/plain": [
       "<Figure size 432x288 with 1 Axes>"
      ]
     },
     "metadata": {
      "needs_background": "light"
     },
     "output_type": "display_data"
    }
   ],
   "source": [
    "import matplotlib.pyplot as plt\n",
    "plt.boxplot([group1, group2, group3])"
   ]
  },
  {
   "cell_type": "code",
   "execution_count": 20,
   "metadata": {},
   "outputs": [
    {
     "name": "stdout",
     "output_type": "stream",
     "text": [
      "# 일원 분산 분석\n"
     ]
    }
   ],
   "source": [
    "print(\"# 일원 분산 분석\")"
   ]
  },
  {
   "cell_type": "code",
   "execution_count": null,
   "metadata": {},
   "outputs": [],
   "source": [
    "# scipy.stats"
   ]
  },
  {
   "cell_type": "code",
   "execution_count": 18,
   "metadata": {},
   "outputs": [
    {
     "data": {
      "text/plain": [
       "F_onewayResult(statistic=3.7113359882669763, pvalue=0.043589334959178244)"
      ]
     },
     "execution_count": 18,
     "metadata": {},
     "output_type": "execute_result"
    }
   ],
   "source": [
    "from scipy import stats\n",
    "stats.f_oneway(group1, group2, group3)"
   ]
  },
  {
   "cell_type": "code",
   "execution_count": 22,
   "metadata": {},
   "outputs": [
    {
     "name": "stdout",
     "output_type": "stream",
     "text": [
      "P-value 값이 충분히 작음으로 인해 그룹의 평균값이 통계적으로 유의미하게 차이납니다.\n"
     ]
    }
   ],
   "source": [
    "_, pval = stats.f_oneway(group1, group2, group3)\n",
    "if pval < 0.05:\n",
    "    print('P-value 값이 충분히 작음으로 인해 그룹의 평균값이 통계적으로 유의미하게 차이납니다.')"
   ]
  },
  {
   "cell_type": "code",
   "execution_count": null,
   "metadata": {},
   "outputs": [],
   "source": [
    "# statsmodels"
   ]
  },
  {
   "cell_type": "code",
   "execution_count": 29,
   "metadata": {},
   "outputs": [
    {
     "data": {
      "text/html": [
       "<div>\n",
       "<style scoped>\n",
       "    .dataframe tbody tr th:only-of-type {\n",
       "        vertical-align: middle;\n",
       "    }\n",
       "\n",
       "    .dataframe tbody tr th {\n",
       "        vertical-align: top;\n",
       "    }\n",
       "\n",
       "    .dataframe thead th {\n",
       "        text-align: right;\n",
       "    }\n",
       "</style>\n",
       "<table border=\"1\" class=\"dataframe\">\n",
       "  <thead>\n",
       "    <tr style=\"text-align: right;\">\n",
       "      <th></th>\n",
       "      <th>value</th>\n",
       "      <th>treatment</th>\n",
       "    </tr>\n",
       "  </thead>\n",
       "  <tbody>\n",
       "    <tr>\n",
       "      <th>0</th>\n",
       "      <td>243.0</td>\n",
       "      <td>1.0</td>\n",
       "    </tr>\n",
       "    <tr>\n",
       "      <th>1</th>\n",
       "      <td>251.0</td>\n",
       "      <td>1.0</td>\n",
       "    </tr>\n",
       "    <tr>\n",
       "      <th>2</th>\n",
       "      <td>275.0</td>\n",
       "      <td>1.0</td>\n",
       "    </tr>\n",
       "    <tr>\n",
       "      <th>3</th>\n",
       "      <td>291.0</td>\n",
       "      <td>1.0</td>\n",
       "    </tr>\n",
       "    <tr>\n",
       "      <th>4</th>\n",
       "      <td>347.0</td>\n",
       "      <td>1.0</td>\n",
       "    </tr>\n",
       "    <tr>\n",
       "      <th>5</th>\n",
       "      <td>354.0</td>\n",
       "      <td>1.0</td>\n",
       "    </tr>\n",
       "    <tr>\n",
       "      <th>6</th>\n",
       "      <td>380.0</td>\n",
       "      <td>1.0</td>\n",
       "    </tr>\n",
       "    <tr>\n",
       "      <th>7</th>\n",
       "      <td>392.0</td>\n",
       "      <td>1.0</td>\n",
       "    </tr>\n",
       "    <tr>\n",
       "      <th>8</th>\n",
       "      <td>206.0</td>\n",
       "      <td>2.0</td>\n",
       "    </tr>\n",
       "    <tr>\n",
       "      <th>9</th>\n",
       "      <td>210.0</td>\n",
       "      <td>2.0</td>\n",
       "    </tr>\n",
       "    <tr>\n",
       "      <th>10</th>\n",
       "      <td>226.0</td>\n",
       "      <td>2.0</td>\n",
       "    </tr>\n",
       "    <tr>\n",
       "      <th>11</th>\n",
       "      <td>249.0</td>\n",
       "      <td>2.0</td>\n",
       "    </tr>\n",
       "    <tr>\n",
       "      <th>12</th>\n",
       "      <td>255.0</td>\n",
       "      <td>2.0</td>\n",
       "    </tr>\n",
       "    <tr>\n",
       "      <th>13</th>\n",
       "      <td>273.0</td>\n",
       "      <td>2.0</td>\n",
       "    </tr>\n",
       "    <tr>\n",
       "      <th>14</th>\n",
       "      <td>285.0</td>\n",
       "      <td>2.0</td>\n",
       "    </tr>\n",
       "    <tr>\n",
       "      <th>15</th>\n",
       "      <td>295.0</td>\n",
       "      <td>2.0</td>\n",
       "    </tr>\n",
       "    <tr>\n",
       "      <th>16</th>\n",
       "      <td>309.0</td>\n",
       "      <td>2.0</td>\n",
       "    </tr>\n",
       "    <tr>\n",
       "      <th>17</th>\n",
       "      <td>241.0</td>\n",
       "      <td>3.0</td>\n",
       "    </tr>\n",
       "    <tr>\n",
       "      <th>18</th>\n",
       "      <td>258.0</td>\n",
       "      <td>3.0</td>\n",
       "    </tr>\n",
       "    <tr>\n",
       "      <th>19</th>\n",
       "      <td>270.0</td>\n",
       "      <td>3.0</td>\n",
       "    </tr>\n",
       "    <tr>\n",
       "      <th>20</th>\n",
       "      <td>293.0</td>\n",
       "      <td>3.0</td>\n",
       "    </tr>\n",
       "    <tr>\n",
       "      <th>21</th>\n",
       "      <td>328.0</td>\n",
       "      <td>3.0</td>\n",
       "    </tr>\n",
       "  </tbody>\n",
       "</table>\n",
       "</div>"
      ],
      "text/plain": [
       "    value  treatment\n",
       "0   243.0        1.0\n",
       "1   251.0        1.0\n",
       "2   275.0        1.0\n",
       "3   291.0        1.0\n",
       "4   347.0        1.0\n",
       "5   354.0        1.0\n",
       "6   380.0        1.0\n",
       "7   392.0        1.0\n",
       "8   206.0        2.0\n",
       "9   210.0        2.0\n",
       "10  226.0        2.0\n",
       "11  249.0        2.0\n",
       "12  255.0        2.0\n",
       "13  273.0        2.0\n",
       "14  285.0        2.0\n",
       "15  295.0        2.0\n",
       "16  309.0        2.0\n",
       "17  241.0        3.0\n",
       "18  258.0        3.0\n",
       "19  270.0        3.0\n",
       "20  293.0        3.0\n",
       "21  328.0        3.0"
      ]
     },
     "execution_count": 29,
     "metadata": {},
     "output_type": "execute_result"
    }
   ],
   "source": [
    "import pandas as pd\n",
    "df = pd.DataFrame(x, columns=['value', 'treatment'])\n",
    "df"
   ]
  },
  {
   "cell_type": "code",
   "execution_count": 32,
   "metadata": {},
   "outputs": [],
   "source": [
    "import statsmodels.api as sm\n",
    "from statsmodels.formula.api import ols"
   ]
  },
  {
   "cell_type": "code",
   "execution_count": 33,
   "metadata": {},
   "outputs": [],
   "source": [
    "model = ols('value ~ C(treatment)', df).fit()"
   ]
  },
  {
   "cell_type": "code",
   "execution_count": 38,
   "metadata": {},
   "outputs": [
    {
     "data": {
      "text/html": [
       "<div>\n",
       "<style scoped>\n",
       "    .dataframe tbody tr th:only-of-type {\n",
       "        vertical-align: middle;\n",
       "    }\n",
       "\n",
       "    .dataframe tbody tr th {\n",
       "        vertical-align: top;\n",
       "    }\n",
       "\n",
       "    .dataframe thead th {\n",
       "        text-align: right;\n",
       "    }\n",
       "</style>\n",
       "<table border=\"1\" class=\"dataframe\">\n",
       "  <thead>\n",
       "    <tr style=\"text-align: right;\">\n",
       "      <th></th>\n",
       "      <th>df</th>\n",
       "      <th>sum_sq</th>\n",
       "      <th>mean_sq</th>\n",
       "      <th>F</th>\n",
       "      <th>PR(&gt;F)</th>\n",
       "    </tr>\n",
       "  </thead>\n",
       "  <tbody>\n",
       "    <tr>\n",
       "      <th>C(treatment)</th>\n",
       "      <td>2.0</td>\n",
       "      <td>15515.766414</td>\n",
       "      <td>7757.883207</td>\n",
       "      <td>3.711336</td>\n",
       "      <td>0.043589</td>\n",
       "    </tr>\n",
       "    <tr>\n",
       "      <th>Residual</th>\n",
       "      <td>19.0</td>\n",
       "      <td>39716.097222</td>\n",
       "      <td>2090.320906</td>\n",
       "      <td>NaN</td>\n",
       "      <td>NaN</td>\n",
       "    </tr>\n",
       "  </tbody>\n",
       "</table>\n",
       "</div>"
      ],
      "text/plain": [
       "                df        sum_sq      mean_sq         F    PR(>F)\n",
       "C(treatment)   2.0  15515.766414  7757.883207  3.711336  0.043589\n",
       "Residual      19.0  39716.097222  2090.320906       NaN       NaN"
      ]
     },
     "execution_count": 38,
     "metadata": {},
     "output_type": "execute_result"
    }
   ],
   "source": [
    "sm.stats.anova_lm(model) # anova_lm => anova linear model"
   ]
  },
  {
   "cell_type": "code",
   "execution_count": 39,
   "metadata": {},
   "outputs": [
    {
     "data": {
      "text/html": [
       "<table class=\"simpletable\">\n",
       "<caption>OLS Regression Results</caption>\n",
       "<tr>\n",
       "  <th>Dep. Variable:</th>          <td>value</td>      <th>  R-squared:         </th> <td>   0.281</td>\n",
       "</tr>\n",
       "<tr>\n",
       "  <th>Model:</th>                   <td>OLS</td>       <th>  Adj. R-squared:    </th> <td>   0.205</td>\n",
       "</tr>\n",
       "<tr>\n",
       "  <th>Method:</th>             <td>Least Squares</td>  <th>  F-statistic:       </th> <td>   3.711</td>\n",
       "</tr>\n",
       "<tr>\n",
       "  <th>Date:</th>             <td>Tue, 06 Apr 2021</td> <th>  Prob (F-statistic):</th>  <td>0.0436</td> \n",
       "</tr>\n",
       "<tr>\n",
       "  <th>Time:</th>                 <td>07:10:10</td>     <th>  Log-Likelihood:    </th> <td> -113.70</td>\n",
       "</tr>\n",
       "<tr>\n",
       "  <th>No. Observations:</th>      <td>    22</td>      <th>  AIC:               </th> <td>   233.4</td>\n",
       "</tr>\n",
       "<tr>\n",
       "  <th>Df Residuals:</th>          <td>    19</td>      <th>  BIC:               </th> <td>   236.7</td>\n",
       "</tr>\n",
       "<tr>\n",
       "  <th>Df Model:</th>              <td>     2</td>      <th>                     </th>     <td> </td>   \n",
       "</tr>\n",
       "<tr>\n",
       "  <th>Covariance Type:</th>      <td>nonrobust</td>    <th>                     </th>     <td> </td>   \n",
       "</tr>\n",
       "</table>\n",
       "<table class=\"simpletable\">\n",
       "<tr>\n",
       "           <td></td>              <th>coef</th>     <th>std err</th>      <th>t</th>      <th>P>|t|</th>  <th>[0.025</th>    <th>0.975]</th>  \n",
       "</tr>\n",
       "<tr>\n",
       "  <th>Intercept</th>           <td>  316.6250</td> <td>   16.164</td> <td>   19.588</td> <td> 0.000</td> <td>  282.792</td> <td>  350.458</td>\n",
       "</tr>\n",
       "<tr>\n",
       "  <th>C(treatment)[T.2.0]</th> <td>  -60.1806</td> <td>   22.216</td> <td>   -2.709</td> <td> 0.014</td> <td> -106.679</td> <td>  -13.682</td>\n",
       "</tr>\n",
       "<tr>\n",
       "  <th>C(treatment)[T.3.0]</th> <td>  -38.6250</td> <td>   26.064</td> <td>   -1.482</td> <td> 0.155</td> <td>  -93.178</td> <td>   15.928</td>\n",
       "</tr>\n",
       "</table>\n",
       "<table class=\"simpletable\">\n",
       "<tr>\n",
       "  <th>Omnibus:</th>       <td> 2.618</td> <th>  Durbin-Watson:     </th> <td>   0.819</td>\n",
       "</tr>\n",
       "<tr>\n",
       "  <th>Prob(Omnibus):</th> <td> 0.270</td> <th>  Jarque-Bera (JB):  </th> <td>   1.189</td>\n",
       "</tr>\n",
       "<tr>\n",
       "  <th>Skew:</th>          <td> 0.021</td> <th>  Prob(JB):          </th> <td>   0.552</td>\n",
       "</tr>\n",
       "<tr>\n",
       "  <th>Kurtosis:</th>      <td> 1.862</td> <th>  Cond. No.          </th> <td>    3.69</td>\n",
       "</tr>\n",
       "</table><br/><br/>Notes:<br/>[1] Standard Errors assume that the covariance matrix of the errors is correctly specified."
      ],
      "text/plain": [
       "<class 'statsmodels.iolib.summary.Summary'>\n",
       "\"\"\"\n",
       "                            OLS Regression Results                            \n",
       "==============================================================================\n",
       "Dep. Variable:                  value   R-squared:                       0.281\n",
       "Model:                            OLS   Adj. R-squared:                  0.205\n",
       "Method:                 Least Squares   F-statistic:                     3.711\n",
       "Date:                Tue, 06 Apr 2021   Prob (F-statistic):             0.0436\n",
       "Time:                        07:10:10   Log-Likelihood:                -113.70\n",
       "No. Observations:                  22   AIC:                             233.4\n",
       "Df Residuals:                      19   BIC:                             236.7\n",
       "Df Model:                           2                                         \n",
       "Covariance Type:            nonrobust                                         \n",
       "=======================================================================================\n",
       "                          coef    std err          t      P>|t|      [0.025      0.975]\n",
       "---------------------------------------------------------------------------------------\n",
       "Intercept             316.6250     16.164     19.588      0.000     282.792     350.458\n",
       "C(treatment)[T.2.0]   -60.1806     22.216     -2.709      0.014    -106.679     -13.682\n",
       "C(treatment)[T.3.0]   -38.6250     26.064     -1.482      0.155     -93.178      15.928\n",
       "==============================================================================\n",
       "Omnibus:                        2.618   Durbin-Watson:                   0.819\n",
       "Prob(Omnibus):                  0.270   Jarque-Bera (JB):                1.189\n",
       "Skew:                           0.021   Prob(JB):                        0.552\n",
       "Kurtosis:                       1.862   Cond. No.                         3.69\n",
       "==============================================================================\n",
       "\n",
       "Notes:\n",
       "[1] Standard Errors assume that the covariance matrix of the errors is correctly specified.\n",
       "\"\"\""
      ]
     },
     "execution_count": 39,
     "metadata": {},
     "output_type": "execute_result"
    }
   ],
   "source": [
    " ols('value ~ C(treatment)', df).fit().summary()"
   ]
  },
  {
   "cell_type": "code",
   "execution_count": null,
   "metadata": {},
   "outputs": [],
   "source": []
  },
  {
   "cell_type": "code",
   "execution_count": 40,
   "metadata": {},
   "outputs": [
    {
     "name": "stdout",
     "output_type": "stream",
     "text": [
      "# 이원 분산 분석\n"
     ]
    }
   ],
   "source": [
    "print(\"# 이원 분산 분석\") # 관측값이 두개 이상일 경우"
   ]
  },
  {
   "cell_type": "code",
   "execution_count": 2,
   "metadata": {},
   "outputs": [
    {
     "data": {
      "text/plain": [
       "array([[14.3,  1. ,  1. ],\n",
       "       [14. ,  1. ,  1. ],\n",
       "       [14.8,  1. ,  1. ],\n",
       "       [13.6,  1. ,  2. ],\n",
       "       [13.6,  1. ,  2. ],\n",
       "       [13.8,  1. ,  2. ],\n",
       "       [13.9,  1. ,  3. ],\n",
       "       [13.7,  1. ,  3. ],\n",
       "       [13.8,  1. ,  3. ],\n",
       "       [13.8,  1. ,  4. ],\n",
       "       [14.7,  1. ,  4. ],\n",
       "       [13.9,  1. ,  4. ],\n",
       "       [19.7,  2. ,  1. ],\n",
       "       [19.9,  2. ,  1. ],\n",
       "       [19.8,  2. ,  1. ],\n",
       "       [19.8,  2. ,  2. ],\n",
       "       [19.3,  2. ,  2. ],\n",
       "       [19.8,  2. ,  2. ],\n",
       "       [19.5,  2. ,  3. ],\n",
       "       [19.8,  2. ,  3. ],\n",
       "       [19.5,  2. ,  3. ],\n",
       "       [19.8,  2. ,  4. ],\n",
       "       [19.6,  2. ,  4. ],\n",
       "       [19.8,  2. ,  4. ],\n",
       "       [13. ,  3. ,  1. ],\n",
       "       [12.6,  3. ,  1. ],\n",
       "       [12.9,  3. ,  1. ],\n",
       "       [12.4,  3. ,  2. ],\n",
       "       [12.8,  3. ,  2. ],\n",
       "       [12.5,  3. ,  2. ],\n",
       "       [12.8,  3. ,  3. ],\n",
       "       [12.7,  3. ,  3. ],\n",
       "       [12.5,  3. ,  3. ],\n",
       "       [13. ,  3. ,  4. ],\n",
       "       [12.9,  3. ,  4. ],\n",
       "       [13.8,  3. ,  4. ]])"
      ]
     },
     "execution_count": 2,
     "metadata": {},
     "output_type": "execute_result"
    }
   ],
   "source": [
    "import numpy as np\n",
    "x = np.genfromtxt(\"data/altman_12_6.txt\", delimiter=\",\")\n",
    "x"
   ]
  },
  {
   "cell_type": "code",
   "execution_count": 3,
   "metadata": {},
   "outputs": [
    {
     "data": {
      "text/html": [
       "<div>\n",
       "<style scoped>\n",
       "    .dataframe tbody tr th:only-of-type {\n",
       "        vertical-align: middle;\n",
       "    }\n",
       "\n",
       "    .dataframe tbody tr th {\n",
       "        vertical-align: top;\n",
       "    }\n",
       "\n",
       "    .dataframe thead th {\n",
       "        text-align: right;\n",
       "    }\n",
       "</style>\n",
       "<table border=\"1\" class=\"dataframe\">\n",
       "  <thead>\n",
       "    <tr style=\"text-align: right;\">\n",
       "      <th></th>\n",
       "      <th>head_size</th>\n",
       "      <th>fetus</th>\n",
       "      <th>observer</th>\n",
       "    </tr>\n",
       "  </thead>\n",
       "  <tbody>\n",
       "    <tr>\n",
       "      <th>0</th>\n",
       "      <td>14.3</td>\n",
       "      <td>1.0</td>\n",
       "      <td>1.0</td>\n",
       "    </tr>\n",
       "    <tr>\n",
       "      <th>1</th>\n",
       "      <td>14.0</td>\n",
       "      <td>1.0</td>\n",
       "      <td>1.0</td>\n",
       "    </tr>\n",
       "    <tr>\n",
       "      <th>2</th>\n",
       "      <td>14.8</td>\n",
       "      <td>1.0</td>\n",
       "      <td>1.0</td>\n",
       "    </tr>\n",
       "    <tr>\n",
       "      <th>3</th>\n",
       "      <td>13.6</td>\n",
       "      <td>1.0</td>\n",
       "      <td>2.0</td>\n",
       "    </tr>\n",
       "    <tr>\n",
       "      <th>4</th>\n",
       "      <td>13.6</td>\n",
       "      <td>1.0</td>\n",
       "      <td>2.0</td>\n",
       "    </tr>\n",
       "    <tr>\n",
       "      <th>5</th>\n",
       "      <td>13.8</td>\n",
       "      <td>1.0</td>\n",
       "      <td>2.0</td>\n",
       "    </tr>\n",
       "    <tr>\n",
       "      <th>6</th>\n",
       "      <td>13.9</td>\n",
       "      <td>1.0</td>\n",
       "      <td>3.0</td>\n",
       "    </tr>\n",
       "    <tr>\n",
       "      <th>7</th>\n",
       "      <td>13.7</td>\n",
       "      <td>1.0</td>\n",
       "      <td>3.0</td>\n",
       "    </tr>\n",
       "    <tr>\n",
       "      <th>8</th>\n",
       "      <td>13.8</td>\n",
       "      <td>1.0</td>\n",
       "      <td>3.0</td>\n",
       "    </tr>\n",
       "    <tr>\n",
       "      <th>9</th>\n",
       "      <td>13.8</td>\n",
       "      <td>1.0</td>\n",
       "      <td>4.0</td>\n",
       "    </tr>\n",
       "    <tr>\n",
       "      <th>10</th>\n",
       "      <td>14.7</td>\n",
       "      <td>1.0</td>\n",
       "      <td>4.0</td>\n",
       "    </tr>\n",
       "    <tr>\n",
       "      <th>11</th>\n",
       "      <td>13.9</td>\n",
       "      <td>1.0</td>\n",
       "      <td>4.0</td>\n",
       "    </tr>\n",
       "    <tr>\n",
       "      <th>12</th>\n",
       "      <td>19.7</td>\n",
       "      <td>2.0</td>\n",
       "      <td>1.0</td>\n",
       "    </tr>\n",
       "    <tr>\n",
       "      <th>13</th>\n",
       "      <td>19.9</td>\n",
       "      <td>2.0</td>\n",
       "      <td>1.0</td>\n",
       "    </tr>\n",
       "    <tr>\n",
       "      <th>14</th>\n",
       "      <td>19.8</td>\n",
       "      <td>2.0</td>\n",
       "      <td>1.0</td>\n",
       "    </tr>\n",
       "    <tr>\n",
       "      <th>15</th>\n",
       "      <td>19.8</td>\n",
       "      <td>2.0</td>\n",
       "      <td>2.0</td>\n",
       "    </tr>\n",
       "    <tr>\n",
       "      <th>16</th>\n",
       "      <td>19.3</td>\n",
       "      <td>2.0</td>\n",
       "      <td>2.0</td>\n",
       "    </tr>\n",
       "    <tr>\n",
       "      <th>17</th>\n",
       "      <td>19.8</td>\n",
       "      <td>2.0</td>\n",
       "      <td>2.0</td>\n",
       "    </tr>\n",
       "    <tr>\n",
       "      <th>18</th>\n",
       "      <td>19.5</td>\n",
       "      <td>2.0</td>\n",
       "      <td>3.0</td>\n",
       "    </tr>\n",
       "    <tr>\n",
       "      <th>19</th>\n",
       "      <td>19.8</td>\n",
       "      <td>2.0</td>\n",
       "      <td>3.0</td>\n",
       "    </tr>\n",
       "    <tr>\n",
       "      <th>20</th>\n",
       "      <td>19.5</td>\n",
       "      <td>2.0</td>\n",
       "      <td>3.0</td>\n",
       "    </tr>\n",
       "    <tr>\n",
       "      <th>21</th>\n",
       "      <td>19.8</td>\n",
       "      <td>2.0</td>\n",
       "      <td>4.0</td>\n",
       "    </tr>\n",
       "    <tr>\n",
       "      <th>22</th>\n",
       "      <td>19.6</td>\n",
       "      <td>2.0</td>\n",
       "      <td>4.0</td>\n",
       "    </tr>\n",
       "    <tr>\n",
       "      <th>23</th>\n",
       "      <td>19.8</td>\n",
       "      <td>2.0</td>\n",
       "      <td>4.0</td>\n",
       "    </tr>\n",
       "    <tr>\n",
       "      <th>24</th>\n",
       "      <td>13.0</td>\n",
       "      <td>3.0</td>\n",
       "      <td>1.0</td>\n",
       "    </tr>\n",
       "    <tr>\n",
       "      <th>25</th>\n",
       "      <td>12.6</td>\n",
       "      <td>3.0</td>\n",
       "      <td>1.0</td>\n",
       "    </tr>\n",
       "    <tr>\n",
       "      <th>26</th>\n",
       "      <td>12.9</td>\n",
       "      <td>3.0</td>\n",
       "      <td>1.0</td>\n",
       "    </tr>\n",
       "    <tr>\n",
       "      <th>27</th>\n",
       "      <td>12.4</td>\n",
       "      <td>3.0</td>\n",
       "      <td>2.0</td>\n",
       "    </tr>\n",
       "    <tr>\n",
       "      <th>28</th>\n",
       "      <td>12.8</td>\n",
       "      <td>3.0</td>\n",
       "      <td>2.0</td>\n",
       "    </tr>\n",
       "    <tr>\n",
       "      <th>29</th>\n",
       "      <td>12.5</td>\n",
       "      <td>3.0</td>\n",
       "      <td>2.0</td>\n",
       "    </tr>\n",
       "    <tr>\n",
       "      <th>30</th>\n",
       "      <td>12.8</td>\n",
       "      <td>3.0</td>\n",
       "      <td>3.0</td>\n",
       "    </tr>\n",
       "    <tr>\n",
       "      <th>31</th>\n",
       "      <td>12.7</td>\n",
       "      <td>3.0</td>\n",
       "      <td>3.0</td>\n",
       "    </tr>\n",
       "    <tr>\n",
       "      <th>32</th>\n",
       "      <td>12.5</td>\n",
       "      <td>3.0</td>\n",
       "      <td>3.0</td>\n",
       "    </tr>\n",
       "    <tr>\n",
       "      <th>33</th>\n",
       "      <td>13.0</td>\n",
       "      <td>3.0</td>\n",
       "      <td>4.0</td>\n",
       "    </tr>\n",
       "    <tr>\n",
       "      <th>34</th>\n",
       "      <td>12.9</td>\n",
       "      <td>3.0</td>\n",
       "      <td>4.0</td>\n",
       "    </tr>\n",
       "    <tr>\n",
       "      <th>35</th>\n",
       "      <td>13.8</td>\n",
       "      <td>3.0</td>\n",
       "      <td>4.0</td>\n",
       "    </tr>\n",
       "  </tbody>\n",
       "</table>\n",
       "</div>"
      ],
      "text/plain": [
       "    head_size  fetus  observer\n",
       "0        14.3    1.0       1.0\n",
       "1        14.0    1.0       1.0\n",
       "2        14.8    1.0       1.0\n",
       "3        13.6    1.0       2.0\n",
       "4        13.6    1.0       2.0\n",
       "5        13.8    1.0       2.0\n",
       "6        13.9    1.0       3.0\n",
       "7        13.7    1.0       3.0\n",
       "8        13.8    1.0       3.0\n",
       "9        13.8    1.0       4.0\n",
       "10       14.7    1.0       4.0\n",
       "11       13.9    1.0       4.0\n",
       "12       19.7    2.0       1.0\n",
       "13       19.9    2.0       1.0\n",
       "14       19.8    2.0       1.0\n",
       "15       19.8    2.0       2.0\n",
       "16       19.3    2.0       2.0\n",
       "17       19.8    2.0       2.0\n",
       "18       19.5    2.0       3.0\n",
       "19       19.8    2.0       3.0\n",
       "20       19.5    2.0       3.0\n",
       "21       19.8    2.0       4.0\n",
       "22       19.6    2.0       4.0\n",
       "23       19.8    2.0       4.0\n",
       "24       13.0    3.0       1.0\n",
       "25       12.6    3.0       1.0\n",
       "26       12.9    3.0       1.0\n",
       "27       12.4    3.0       2.0\n",
       "28       12.8    3.0       2.0\n",
       "29       12.5    3.0       2.0\n",
       "30       12.8    3.0       3.0\n",
       "31       12.7    3.0       3.0\n",
       "32       12.5    3.0       3.0\n",
       "33       13.0    3.0       4.0\n",
       "34       12.9    3.0       4.0\n",
       "35       13.8    3.0       4.0"
      ]
     },
     "execution_count": 3,
     "metadata": {},
     "output_type": "execute_result"
    }
   ],
   "source": [
    "import pandas as pd\n",
    "df = pd.DataFrame(x, columns=['head_size', 'fetus', 'observer'])\n",
    "df"
   ]
  },
  {
   "cell_type": "code",
   "execution_count": 46,
   "metadata": {},
   "outputs": [
    {
     "data": {
      "text/plain": [
       "<AxesSubplot:title={'center':'head_size'}, xlabel='fetus'>"
      ]
     },
     "execution_count": 46,
     "metadata": {},
     "output_type": "execute_result"
    },
    {
     "data": {
      "image/png": "[encoded data removed]",
      "text/plain": [
       "<Figure size 432x288 with 1 Axes>"
      ]
     },
     "metadata": {
      "needs_background": "light"
     },
     "output_type": "display_data"
    }
   ],
   "source": [
    "df.boxplot(column = 'head_size', by='fetus')"
   ]
  },
  {
   "cell_type": "code",
   "execution_count": 54,
   "metadata": {},
   "outputs": [
    {
     "data": {
      "text/html": [
       "<img src=\"https://t1.daumcdn.net/cfile/tistory/99811D485EBFA00C2B\"/>"
      ],
      "text/plain": [
       "<IPython.core.display.Image object>"
      ]
     },
     "execution_count": 54,
     "metadata": {},
     "output_type": "execute_result"
    }
   ],
   "source": [
    "from IPython import display\n",
    "display.Image(url=\"https://t1.daumcdn.net/cfile/tistory/99811D485EBFA00C2B\")"
   ]
  },
  {
   "cell_type": "code",
   "execution_count": null,
   "metadata": {},
   "outputs": [],
   "source": [
    "# 참조 - https://rfriend.tistory.com/136"
   ]
  },
  {
   "cell_type": "code",
   "execution_count": 4,
   "metadata": {},
   "outputs": [
    {
     "data": {
      "text/html": [
       "<div>\n",
       "<style scoped>\n",
       "    .dataframe tbody tr th:only-of-type {\n",
       "        vertical-align: middle;\n",
       "    }\n",
       "\n",
       "    .dataframe tbody tr th {\n",
       "        vertical-align: top;\n",
       "    }\n",
       "\n",
       "    .dataframe thead th {\n",
       "        text-align: right;\n",
       "    }\n",
       "</style>\n",
       "<table border=\"1\" class=\"dataframe\">\n",
       "  <thead>\n",
       "    <tr style=\"text-align: right;\">\n",
       "      <th></th>\n",
       "      <th>df</th>\n",
       "      <th>sum_sq</th>\n",
       "      <th>mean_sq</th>\n",
       "      <th>F</th>\n",
       "      <th>PR(&gt;F)</th>\n",
       "    </tr>\n",
       "  </thead>\n",
       "  <tbody>\n",
       "    <tr>\n",
       "      <th>C(fetus)</th>\n",
       "      <td>2.0</td>\n",
       "      <td>324.008889</td>\n",
       "      <td>162.004444</td>\n",
       "      <td>2113.101449</td>\n",
       "      <td>1.051039e-27</td>\n",
       "    </tr>\n",
       "    <tr>\n",
       "      <th>C(observer)</th>\n",
       "      <td>3.0</td>\n",
       "      <td>1.198611</td>\n",
       "      <td>0.399537</td>\n",
       "      <td>5.211353</td>\n",
       "      <td>6.497055e-03</td>\n",
       "    </tr>\n",
       "    <tr>\n",
       "      <th>C(fetus):C(observer)</th>\n",
       "      <td>6.0</td>\n",
       "      <td>0.562222</td>\n",
       "      <td>0.093704</td>\n",
       "      <td>1.222222</td>\n",
       "      <td>3.295509e-01</td>\n",
       "    </tr>\n",
       "    <tr>\n",
       "      <th>Residual</th>\n",
       "      <td>24.0</td>\n",
       "      <td>1.840000</td>\n",
       "      <td>0.076667</td>\n",
       "      <td>NaN</td>\n",
       "      <td>NaN</td>\n",
       "    </tr>\n",
       "  </tbody>\n",
       "</table>\n",
       "</div>"
      ],
      "text/plain": [
       "                        df      sum_sq     mean_sq            F        PR(>F)\n",
       "C(fetus)               2.0  324.008889  162.004444  2113.101449  1.051039e-27\n",
       "C(observer)            3.0    1.198611    0.399537     5.211353  6.497055e-03\n",
       "C(fetus):C(observer)   6.0    0.562222    0.093704     1.222222  3.295509e-01\n",
       "Residual              24.0    1.840000    0.076667          NaN           NaN"
      ]
     },
     "execution_count": 4,
     "metadata": {},
     "output_type": "execute_result"
    }
   ],
   "source": [
    "import statsmodels.api as sm\n",
    "from statsmodels.formula.api import ols\n",
    "model = ols(\"head_size ~ C(fetus) + C(observer) + C(fetus):C(observer)\", df).fit()\n",
    "sm.stats.anova_lm(model)"
   ]
  },
  {
   "cell_type": "code",
   "execution_count": 5,
   "metadata": {},
   "outputs": [
    {
     "data": {
      "text/html": [
       "<div>\n",
       "<style scoped>\n",
       "    .dataframe tbody tr th:only-of-type {\n",
       "        vertical-align: middle;\n",
       "    }\n",
       "\n",
       "    .dataframe tbody tr th {\n",
       "        vertical-align: top;\n",
       "    }\n",
       "\n",
       "    .dataframe thead th {\n",
       "        text-align: right;\n",
       "    }\n",
       "</style>\n",
       "<table border=\"1\" class=\"dataframe\">\n",
       "  <thead>\n",
       "    <tr style=\"text-align: right;\">\n",
       "      <th></th>\n",
       "      <th>df</th>\n",
       "      <th>sum_sq</th>\n",
       "      <th>mean_sq</th>\n",
       "      <th>F</th>\n",
       "      <th>PR(&gt;F)</th>\n",
       "    </tr>\n",
       "  </thead>\n",
       "  <tbody>\n",
       "    <tr>\n",
       "      <th>C(fetus)</th>\n",
       "      <td>2.0</td>\n",
       "      <td>324.008889</td>\n",
       "      <td>162.004444</td>\n",
       "      <td>2113.101449</td>\n",
       "      <td>1.051039e-27</td>\n",
       "    </tr>\n",
       "    <tr>\n",
       "      <th>C(observer)</th>\n",
       "      <td>3.0</td>\n",
       "      <td>1.198611</td>\n",
       "      <td>0.399537</td>\n",
       "      <td>5.211353</td>\n",
       "      <td>6.497055e-03</td>\n",
       "    </tr>\n",
       "    <tr>\n",
       "      <th>C(observer):C(fetus)</th>\n",
       "      <td>6.0</td>\n",
       "      <td>0.562222</td>\n",
       "      <td>0.093704</td>\n",
       "      <td>1.222222</td>\n",
       "      <td>3.295509e-01</td>\n",
       "    </tr>\n",
       "    <tr>\n",
       "      <th>Residual</th>\n",
       "      <td>24.0</td>\n",
       "      <td>1.840000</td>\n",
       "      <td>0.076667</td>\n",
       "      <td>NaN</td>\n",
       "      <td>NaN</td>\n",
       "    </tr>\n",
       "  </tbody>\n",
       "</table>\n",
       "</div>"
      ],
      "text/plain": [
       "                        df      sum_sq     mean_sq            F        PR(>F)\n",
       "C(fetus)               2.0  324.008889  162.004444  2113.101449  1.051039e-27\n",
       "C(observer)            3.0    1.198611    0.399537     5.211353  6.497055e-03\n",
       "C(observer):C(fetus)   6.0    0.562222    0.093704     1.222222  3.295509e-01\n",
       "Residual              24.0    1.840000    0.076667          NaN           NaN"
      ]
     },
     "execution_count": 5,
     "metadata": {},
     "output_type": "execute_result"
    }
   ],
   "source": [
    "model = ols(\"head_size ~ C(fetus) + C(observer) + C(observer):C(fetus)\", df).fit()\n",
    "sm.stats.anova_lm(model)"
   ]
  },
  {
   "cell_type": "code",
   "execution_count": 59,
   "metadata": {},
   "outputs": [],
   "source": [
    "result = \"\"\"\n",
    "# 교효작용 (interaction effect 상호 작용 효과)\n",
    "C(observer),C(fetus)  :  태아와 관찰자에 따른 교호작용효과에 대한 P-value가 0.33으로 귀무가설 H0를 채택 \n",
    "                         -> 관찰자와 태아의 교효작용(interaction effect)에 의한 효과는 없다\n",
    "  \n",
    "# 주 효과 (main effect)\n",
    "C(fetus)    : 태아에 따른 따른 (머리크기의) 통계학 차이가 있다.\n",
    "C(observer) : 관찰자에 따른 통계학 차이가 있다.\n",
    "\"\"\""
   ]
  },
  {
   "cell_type": "code",
   "execution_count": 6,
   "metadata": {},
   "outputs": [
    {
     "data": {
      "text/html": [
       "<div>\n",
       "<style scoped>\n",
       "    .dataframe tbody tr th:only-of-type {\n",
       "        vertical-align: middle;\n",
       "    }\n",
       "\n",
       "    .dataframe tbody tr th {\n",
       "        vertical-align: top;\n",
       "    }\n",
       "\n",
       "    .dataframe thead th {\n",
       "        text-align: right;\n",
       "    }\n",
       "</style>\n",
       "<table border=\"1\" class=\"dataframe\">\n",
       "  <thead>\n",
       "    <tr style=\"text-align: right;\">\n",
       "      <th></th>\n",
       "      <th>df</th>\n",
       "      <th>sum_sq</th>\n",
       "      <th>mean_sq</th>\n",
       "      <th>F</th>\n",
       "      <th>PR(&gt;F)</th>\n",
       "    </tr>\n",
       "  </thead>\n",
       "  <tbody>\n",
       "    <tr>\n",
       "      <th>C(fetus)</th>\n",
       "      <td>2.0</td>\n",
       "      <td>324.008889</td>\n",
       "      <td>162.004444</td>\n",
       "      <td>2113.101449</td>\n",
       "      <td>1.051039e-27</td>\n",
       "    </tr>\n",
       "    <tr>\n",
       "      <th>C(observer)</th>\n",
       "      <td>3.0</td>\n",
       "      <td>1.198611</td>\n",
       "      <td>0.399537</td>\n",
       "      <td>5.211353</td>\n",
       "      <td>6.497055e-03</td>\n",
       "    </tr>\n",
       "    <tr>\n",
       "      <th>C(fetus):C(observer)</th>\n",
       "      <td>6.0</td>\n",
       "      <td>0.562222</td>\n",
       "      <td>0.093704</td>\n",
       "      <td>1.222222</td>\n",
       "      <td>3.295509e-01</td>\n",
       "    </tr>\n",
       "    <tr>\n",
       "      <th>Residual</th>\n",
       "      <td>24.0</td>\n",
       "      <td>1.840000</td>\n",
       "      <td>0.076667</td>\n",
       "      <td>NaN</td>\n",
       "      <td>NaN</td>\n",
       "    </tr>\n",
       "  </tbody>\n",
       "</table>\n",
       "</div>"
      ],
      "text/plain": [
       "                        df      sum_sq     mean_sq            F        PR(>F)\n",
       "C(fetus)               2.0  324.008889  162.004444  2113.101449  1.051039e-27\n",
       "C(observer)            3.0    1.198611    0.399537     5.211353  6.497055e-03\n",
       "C(fetus):C(observer)   6.0    0.562222    0.093704     1.222222  3.295509e-01\n",
       "Residual              24.0    1.840000    0.076667          NaN           NaN"
      ]
     },
     "execution_count": 6,
     "metadata": {},
     "output_type": "execute_result"
    }
   ],
   "source": [
    "import statsmodels.api as sm\n",
    "from statsmodels.formula.api import ols\n",
    "model = ols(\"head_size ~ C(fetus) * C(observer)\", df).fit()\n",
    "sm.stats.anova_lm(model)"
   ]
  },
  {
   "cell_type": "code",
   "execution_count": 7,
   "metadata": {},
   "outputs": [
    {
     "data": {
      "text/html": [
       "<div>\n",
       "<style scoped>\n",
       "    .dataframe tbody tr th:only-of-type {\n",
       "        vertical-align: middle;\n",
       "    }\n",
       "\n",
       "    .dataframe tbody tr th {\n",
       "        vertical-align: top;\n",
       "    }\n",
       "\n",
       "    .dataframe thead th {\n",
       "        text-align: right;\n",
       "    }\n",
       "</style>\n",
       "<table border=\"1\" class=\"dataframe\">\n",
       "  <thead>\n",
       "    <tr style=\"text-align: right;\">\n",
       "      <th></th>\n",
       "      <th>df</th>\n",
       "      <th>sum_sq</th>\n",
       "      <th>mean_sq</th>\n",
       "      <th>F</th>\n",
       "      <th>PR(&gt;F)</th>\n",
       "    </tr>\n",
       "  </thead>\n",
       "  <tbody>\n",
       "    <tr>\n",
       "      <th>C(fetus, Sum)</th>\n",
       "      <td>2.0</td>\n",
       "      <td>324.008889</td>\n",
       "      <td>162.004444</td>\n",
       "      <td>2113.101449</td>\n",
       "      <td>1.051039e-27</td>\n",
       "    </tr>\n",
       "    <tr>\n",
       "      <th>C(observer, Sum)</th>\n",
       "      <td>3.0</td>\n",
       "      <td>1.198611</td>\n",
       "      <td>0.399537</td>\n",
       "      <td>5.211353</td>\n",
       "      <td>6.497055e-03</td>\n",
       "    </tr>\n",
       "    <tr>\n",
       "      <th>C(fetus, Sum):C(observer, Sum)</th>\n",
       "      <td>6.0</td>\n",
       "      <td>0.562222</td>\n",
       "      <td>0.093704</td>\n",
       "      <td>1.222222</td>\n",
       "      <td>3.295509e-01</td>\n",
       "    </tr>\n",
       "    <tr>\n",
       "      <th>Residual</th>\n",
       "      <td>24.0</td>\n",
       "      <td>1.840000</td>\n",
       "      <td>0.076667</td>\n",
       "      <td>NaN</td>\n",
       "      <td>NaN</td>\n",
       "    </tr>\n",
       "  </tbody>\n",
       "</table>\n",
       "</div>"
      ],
      "text/plain": [
       "                                  df      sum_sq     mean_sq            F  \\\n",
       "C(fetus, Sum)                    2.0  324.008889  162.004444  2113.101449   \n",
       "C(observer, Sum)                 3.0    1.198611    0.399537     5.211353   \n",
       "C(fetus, Sum):C(observer, Sum)   6.0    0.562222    0.093704     1.222222   \n",
       "Residual                        24.0    1.840000    0.076667          NaN   \n",
       "\n",
       "                                      PR(>F)  \n",
       "C(fetus, Sum)                   1.051039e-27  \n",
       "C(observer, Sum)                6.497055e-03  \n",
       "C(fetus, Sum):C(observer, Sum)  3.295509e-01  \n",
       "Residual                                 NaN  "
      ]
     },
     "execution_count": 7,
     "metadata": {},
     "output_type": "execute_result"
    }
   ],
   "source": [
    "import statsmodels.api as sm\n",
    "from statsmodels.formula.api import ols\n",
    "model = ols(\"head_size ~ C(fetus, Sum) * C(observer, Sum)\", df).fit()\n",
    "sm.stats.anova_lm(model)"
   ]
  },
  {
   "cell_type": "code",
   "execution_count": 8,
   "metadata": {},
   "outputs": [
    {
     "data": {
      "text/html": [
       "<table class=\"simpletable\">\n",
       "<caption>OLS Regression Results</caption>\n",
       "<tr>\n",
       "  <th>Dep. Variable:</th>        <td>head_size</td>    <th>  R-squared:         </th> <td>   0.994</td>\n",
       "</tr>\n",
       "<tr>\n",
       "  <th>Model:</th>                   <td>OLS</td>       <th>  Adj. R-squared:    </th> <td>   0.992</td>\n",
       "</tr>\n",
       "<tr>\n",
       "  <th>Method:</th>             <td>Least Squares</td>  <th>  F-statistic:       </th> <td>   386.3</td>\n",
       "</tr>\n",
       "<tr>\n",
       "  <th>Date:</th>             <td>Tue, 06 Apr 2021</td> <th>  Prob (F-statistic):</th> <td>3.29e-24</td>\n",
       "</tr>\n",
       "<tr>\n",
       "  <th>Time:</th>                 <td>07:38:52</td>     <th>  Log-Likelihood:    </th> <td>  2.4458</td>\n",
       "</tr>\n",
       "<tr>\n",
       "  <th>No. Observations:</th>      <td>    36</td>      <th>  AIC:               </th> <td>   19.11</td>\n",
       "</tr>\n",
       "<tr>\n",
       "  <th>Df Residuals:</th>          <td>    24</td>      <th>  BIC:               </th> <td>   38.11</td>\n",
       "</tr>\n",
       "<tr>\n",
       "  <th>Df Model:</th>              <td>    11</td>      <th>                     </th>     <td> </td>   \n",
       "</tr>\n",
       "<tr>\n",
       "  <th>Covariance Type:</th>      <td>nonrobust</td>    <th>                     </th>     <td> </td>   \n",
       "</tr>\n",
       "</table>\n",
       "<table class=\"simpletable\">\n",
       "<tr>\n",
       "                   <td></td>                     <th>coef</th>     <th>std err</th>      <th>t</th>      <th>P>|t|</th>  <th>[0.025</th>    <th>0.975]</th>  \n",
       "</tr>\n",
       "<tr>\n",
       "  <th>Intercept</th>                          <td>   14.3667</td> <td>    0.160</td> <td>   89.870</td> <td> 0.000</td> <td>   14.037</td> <td>   14.697</td>\n",
       "</tr>\n",
       "<tr>\n",
       "  <th>C(fetus)[T.2.0]</th>                    <td>    5.4333</td> <td>    0.226</td> <td>   24.033</td> <td> 0.000</td> <td>    4.967</td> <td>    5.900</td>\n",
       "</tr>\n",
       "<tr>\n",
       "  <th>C(fetus)[T.3.0]</th>                    <td>   -1.5333</td> <td>    0.226</td> <td>   -6.782</td> <td> 0.000</td> <td>   -2.000</td> <td>   -1.067</td>\n",
       "</tr>\n",
       "<tr>\n",
       "  <th>C(observer)[T.2.0]</th>                 <td>   -0.7000</td> <td>    0.226</td> <td>   -3.096</td> <td> 0.005</td> <td>   -1.167</td> <td>   -0.233</td>\n",
       "</tr>\n",
       "<tr>\n",
       "  <th>C(observer)[T.3.0]</th>                 <td>   -0.5667</td> <td>    0.226</td> <td>   -2.507</td> <td> 0.019</td> <td>   -1.033</td> <td>   -0.100</td>\n",
       "</tr>\n",
       "<tr>\n",
       "  <th>C(observer)[T.4.0]</th>                 <td>   -0.2333</td> <td>    0.226</td> <td>   -1.032</td> <td> 0.312</td> <td>   -0.700</td> <td>    0.233</td>\n",
       "</tr>\n",
       "<tr>\n",
       "  <th>C(fetus)[T.2.0]:C(observer)[T.2.0]</th> <td>    0.5333</td> <td>    0.320</td> <td>    1.668</td> <td> 0.108</td> <td>   -0.127</td> <td>    1.193</td>\n",
       "</tr>\n",
       "<tr>\n",
       "  <th>C(fetus)[T.3.0]:C(observer)[T.2.0]</th> <td>    0.4333</td> <td>    0.320</td> <td>    1.355</td> <td> 0.188</td> <td>   -0.227</td> <td>    1.093</td>\n",
       "</tr>\n",
       "<tr>\n",
       "  <th>C(fetus)[T.2.0]:C(observer)[T.3.0]</th> <td>    0.3667</td> <td>    0.320</td> <td>    1.147</td> <td> 0.263</td> <td>   -0.293</td> <td>    1.027</td>\n",
       "</tr>\n",
       "<tr>\n",
       "  <th>C(fetus)[T.3.0]:C(observer)[T.3.0]</th> <td>    0.4000</td> <td>    0.320</td> <td>    1.251</td> <td> 0.223</td> <td>   -0.260</td> <td>    1.060</td>\n",
       "</tr>\n",
       "<tr>\n",
       "  <th>C(fetus)[T.2.0]:C(observer)[T.4.0]</th> <td>    0.1667</td> <td>    0.320</td> <td>    0.521</td> <td> 0.607</td> <td>   -0.493</td> <td>    0.827</td>\n",
       "</tr>\n",
       "<tr>\n",
       "  <th>C(fetus)[T.3.0]:C(observer)[T.4.0]</th> <td>    0.6333</td> <td>    0.320</td> <td>    1.981</td> <td> 0.059</td> <td>   -0.027</td> <td>    1.293</td>\n",
       "</tr>\n",
       "</table>\n",
       "<table class=\"simpletable\">\n",
       "<tr>\n",
       "  <th>Omnibus:</th>       <td> 3.922</td> <th>  Durbin-Watson:     </th> <td>   2.753</td>\n",
       "</tr>\n",
       "<tr>\n",
       "  <th>Prob(Omnibus):</th> <td> 0.141</td> <th>  Jarque-Bera (JB):  </th> <td>   2.759</td>\n",
       "</tr>\n",
       "<tr>\n",
       "  <th>Skew:</th>          <td> 0.654</td> <th>  Prob(JB):          </th> <td>   0.252</td>\n",
       "</tr>\n",
       "<tr>\n",
       "  <th>Kurtosis:</th>      <td> 3.356</td> <th>  Cond. No.          </th> <td>    17.9</td>\n",
       "</tr>\n",
       "</table><br/><br/>Notes:<br/>[1] Standard Errors assume that the covariance matrix of the errors is correctly specified."
      ],
      "text/plain": [
       "<class 'statsmodels.iolib.summary.Summary'>\n",
       "\"\"\"\n",
       "                            OLS Regression Results                            \n",
       "==============================================================================\n",
       "Dep. Variable:              head_size   R-squared:                       0.994\n",
       "Model:                            OLS   Adj. R-squared:                  0.992\n",
       "Method:                 Least Squares   F-statistic:                     386.3\n",
       "Date:                Tue, 06 Apr 2021   Prob (F-statistic):           3.29e-24\n",
       "Time:                        07:38:52   Log-Likelihood:                 2.4458\n",
       "No. Observations:                  36   AIC:                             19.11\n",
       "Df Residuals:                      24   BIC:                             38.11\n",
       "Df Model:                          11                                         \n",
       "Covariance Type:            nonrobust                                         \n",
       "======================================================================================================\n",
       "                                         coef    std err          t      P>|t|      [0.025      0.975]\n",
       "------------------------------------------------------------------------------------------------------\n",
       "Intercept                             14.3667      0.160     89.870      0.000      14.037      14.697\n",
       "C(fetus)[T.2.0]                        5.4333      0.226     24.033      0.000       4.967       5.900\n",
       "C(fetus)[T.3.0]                       -1.5333      0.226     -6.782      0.000      -2.000      -1.067\n",
       "C(observer)[T.2.0]                    -0.7000      0.226     -3.096      0.005      -1.167      -0.233\n",
       "C(observer)[T.3.0]                    -0.5667      0.226     -2.507      0.019      -1.033      -0.100\n",
       "C(observer)[T.4.0]                    -0.2333      0.226     -1.032      0.312      -0.700       0.233\n",
       "C(fetus)[T.2.0]:C(observer)[T.2.0]     0.5333      0.320      1.668      0.108      -0.127       1.193\n",
       "C(fetus)[T.3.0]:C(observer)[T.2.0]     0.4333      0.320      1.355      0.188      -0.227       1.093\n",
       "C(fetus)[T.2.0]:C(observer)[T.3.0]     0.3667      0.320      1.147      0.263      -0.293       1.027\n",
       "C(fetus)[T.3.0]:C(observer)[T.3.0]     0.4000      0.320      1.251      0.223      -0.260       1.060\n",
       "C(fetus)[T.2.0]:C(observer)[T.4.0]     0.1667      0.320      0.521      0.607      -0.493       0.827\n",
       "C(fetus)[T.3.0]:C(observer)[T.4.0]     0.6333      0.320      1.981      0.059      -0.027       1.293\n",
       "==============================================================================\n",
       "Omnibus:                        3.922   Durbin-Watson:                   2.753\n",
       "Prob(Omnibus):                  0.141   Jarque-Bera (JB):                2.759\n",
       "Skew:                           0.654   Prob(JB):                        0.252\n",
       "Kurtosis:                       3.356   Cond. No.                         17.9\n",
       "==============================================================================\n",
       "\n",
       "Notes:\n",
       "[1] Standard Errors assume that the covariance matrix of the errors is correctly specified.\n",
       "\"\"\""
      ]
     },
     "execution_count": 8,
     "metadata": {},
     "output_type": "execute_result"
    }
   ],
   "source": [
    "model.summary()"
   ]
  },
  {
   "cell_type": "code",
   "execution_count": 9,
   "metadata": {},
   "outputs": [
    {
     "data": {
      "text/plain": [
       "['__builtins__',\n",
       " '__cached__',\n",
       " '__doc__',\n",
       " '__file__',\n",
       " '__init__',\n",
       " '__loader__',\n",
       " '__name__',\n",
       " '__package__',\n",
       " '__path__',\n",
       " '__spec__',\n",
       " '__version__',\n",
       " '_version',\n",
       " 'api',\n",
       " 'base',\n",
       " 'compat',\n",
       " 'datasets',\n",
       " 'debug_warnings',\n",
       " 'discrete',\n",
       " 'distributions',\n",
       " 'duration',\n",
       " 'emplike',\n",
       " 'formula',\n",
       " 'gam',\n",
       " 'genmod',\n",
       " 'graphics',\n",
       " 'imputation',\n",
       " 'iolib',\n",
       " 'multivariate',\n",
       " 'nonparametric',\n",
       " 'regression',\n",
       " 'robust',\n",
       " 'sandbox',\n",
       " 'stats',\n",
       " 'test',\n",
       " 'tools',\n",
       " 'tsa']"
      ]
     },
     "execution_count": 9,
     "metadata": {},
     "output_type": "execute_result"
    }
   ],
   "source": [
    "import statsmodels\n",
    "dir (statsmodels)"
   ]
  },
  {
   "cell_type": "code",
   "execution_count": null,
   "metadata": {},
   "outputs": [],
   "source": []
  }
 ],
 "metadata": {
  "kernelspec": {
   "display_name": "Python 3",
   "language": "python",
   "name": "python3"
  },
  "language_info": {
   "codemirror_mode": {
    "name": "ipython",
    "version": 3
   },
   "file_extension": ".py",
   "mimetype": "text/x-python",
   "name": "python",
   "nbconvert_exporter": "python",
   "pygments_lexer": "ipython3",
   "version": "3.8.5"
  }
 },
 "nbformat": 4,
 "nbformat_minor": 4
}
