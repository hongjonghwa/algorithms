{
 "cells": [
  {
   "cell_type": "code",
   "execution_count": 5,
   "metadata": {},
   "outputs": [],
   "source": [
    "x = \"\"\"\n",
    "카이제곱 검정 : 분산 검정, 모집단이 하나일 경우  평균에 대해 어느 정도의 산포가 나타나는지를 살펴보는 가설검증    \n",
    "F (분포) 검정 : 분산비 검정, 모집단이 둘 일 경우 독립적인 두 카이제곱분포에 관한 비로써 정의된다\n",
    "                   자유도는 분자에 해당하는 카이제곱분포의 자유도와 분모에 해당하는 카이제곱분포의 자유도에 의해 결정된다\n",
    "\"\"\" "
   ]
  },
  {
   "cell_type": "code",
   "execution_count": 6,
   "metadata": {},
   "outputs": [],
   "source": [
    "x = \"\"\"\n",
    "\n",
    "# F Test in R\n",
    "\n",
    "> boy <-  c(46,47,58,47,27,58,56,26,47,25)\n",
    "> girl <- c(78,57,31,28,67,77,36,57,36,57)\n",
    "> var.test(boy,girl)\n",
    "\n",
    "\tF test to compare two variances\n",
    "\n",
    "data:  boy and girl\n",
    "F = 0.4923, num df = 9, denom df = 9, p-value = 0.306\n",
    "alternative hypothesis: true ratio of variances is not equal to 1\n",
    "95 percent confidence interval:\n",
    " 0.1222795 1.9819824\n",
    "sample estimates:\n",
    "ratio of variances \n",
    "         0.4922964 \n",
    "\n",
    "> var.test(girl,boy)\n",
    "\n",
    "\tF test to compare two variances\n",
    "\n",
    "data:  girl and boy\n",
    "F = 2.0313, num df = 9, denom df = 9, p-value = 0.306\n",
    "alternative hypothesis: true ratio of variances is not equal to 1\n",
    "95 percent confidence interval:\n",
    " 0.5045454 8.1779885\n",
    "sample estimates:\n",
    "ratio of variances \n",
    "          2.031297 \n",
    "\"\"\""
   ]
  },
  {
   "cell_type": "code",
   "execution_count": 1,
   "metadata": {},
   "outputs": [],
   "source": [
    "import numpy as np\n",
    "import pandas as pd\n",
    "from scipy import stats"
   ]
  },
  {
   "cell_type": "code",
   "execution_count": 2,
   "metadata": {},
   "outputs": [],
   "source": [
    "boy  = [46,47,58,47,27,58,56,26,47,25]\n",
    "girl = [78,57,31,28,67,77,36,57,36,57]"
   ]
  },
  {
   "cell_type": "code",
   "execution_count": 3,
   "metadata": {},
   "outputs": [],
   "source": [
    "def f_test(x, y):\n",
    "    x = np.array(x)\n",
    "    y = np.array(y)\n",
    "    f = np.var(x, ddof=1)/np.var(y, ddof=1) #calculate F test statistic \n",
    "    dfn = x.size-1 #define degrees of freedom numerator 분자\n",
    "    dfd = y.size-1 #define degrees of freedom denominator 분모\n",
    "    \n",
    "    # One-tailed test\n",
    "    # p = 1-scipy.stats.f.cdf(f, dfn, dfd) #find p-value of F test statistic\n",
    "    \n",
    "    # Two-tailed test\n",
    "    rv = stats.f(dfn, dfd)\n",
    "    one_pval = rv.cdf(f) # single_tailed_pval\n",
    "    # or simply => c = stats.f.cdf(f, dfn, dfd) \n",
    "    \n",
    "    p = min(one_pval, 1-one_pval) * 2\n",
    "    \n",
    "    return f, p"
   ]
  },
  {
   "cell_type": "code",
   "execution_count": 4,
   "metadata": {},
   "outputs": [
    {
     "data": {
      "text/plain": [
       "(0.4922963815368879, 0.3059622564213057)"
      ]
     },
     "execution_count": 4,
     "metadata": {},
     "output_type": "execute_result"
    }
   ],
   "source": [
    "f_test(boy, girl)"
   ]
  },
  {
   "cell_type": "code",
   "execution_count": 5,
   "metadata": {},
   "outputs": [
    {
     "data": {
      "text/plain": [
       "(2.0312966690474643, 0.3059622564213056)"
      ]
     },
     "execution_count": 5,
     "metadata": {},
     "output_type": "execute_result"
    }
   ],
   "source": [
    "f_test(girl, boy)"
   ]
  },
  {
   "cell_type": "code",
   "execution_count": 7,
   "metadata": {},
   "outputs": [],
   "source": [
    "# 기타"
   ]
  },
  {
   "cell_type": "code",
   "execution_count": 7,
   "metadata": {},
   "outputs": [],
   "source": [
    "fdistribution = stats.f(len(boy)-1,len(girl)-1) # 자유도 d1=9 (boy), d2=9 (girl)의 F 분포"
   ]
  },
  {
   "cell_type": "code",
   "execution_count": 8,
   "metadata": {},
   "outputs": [
    {
     "name": "stdout",
     "output_type": "stream",
     "text": [
      "F 통계량 범위 0.24838585469445493 4.025994158282978\n"
     ]
    }
   ],
   "source": [
    "# scipy.stats.rv_continuous.ppf\n",
    "# Percent point function (inverse of cdf) at q of the given RV.\n",
    "\n",
    "f_critical1 = fdistribution.ppf(0.025)\n",
    "f_critical2 = fdistribution.ppf(0.975)\n",
    "print(\"F 통계량 범위\", f_critical1, f_critical2)"
   ]
  },
  {
   "cell_type": "code",
   "execution_count": 10,
   "metadata": {},
   "outputs": [
    {
     "data": {
      "text/plain": [
       "[<matplotlib.lines.Line2D at 0x7f949234fbe0>]"
      ]
     },
     "execution_count": 10,
     "metadata": {},
     "output_type": "execute_result"
    },
    {
     "data": {
      "image/png": "[encoded data removed]",
      "text/plain": [
       "<Figure size 432x288 with 1 Axes>"
      ]
     },
     "metadata": {
      "needs_background": "light"
     },
     "output_type": "display_data"
    }
   ],
   "source": [
    "import matplotlib.pyplot as plt\n",
    "\n",
    "x = np.linspace(fdistribution.ppf(0.001), fdistribution.ppf(0.999), 1000)\n",
    "y = fdistribution.pdf(x) \n",
    "\n",
    "plt.plot(x,y)"
   ]
  },
  {
   "cell_type": "code",
   "execution_count": 11,
   "metadata": {},
   "outputs": [
    {
     "data": {
      "text/plain": [
       "[<matplotlib.lines.Line2D at 0x7f9491a98dc0>]"
      ]
     },
     "execution_count": 11,
     "metadata": {},
     "output_type": "execute_result"
    },
    {
     "data": {
      "image/png": "[encoded data removed]",
      "text/plain": [
       "<Figure size 432x288 with 1 Axes>"
      ]
     },
     "metadata": {
      "needs_background": "light"
     },
     "output_type": "display_data"
    }
   ],
   "source": [
    "x = np.linspace(fdistribution.ppf(0.0001), fdistribution.ppf(0.9999), 100)\n",
    "y = fdistribution.cdf(x) \n",
    "\n",
    "plt.plot(x,y)"
   ]
  },
  {
   "cell_type": "code",
   "execution_count": 2,
   "metadata": {},
   "outputs": [
    {
     "name": "stdout",
     "output_type": "stream",
     "text": [
      "An F continuous random variable.\n",
      "\n",
      "    As an instance of the `rv_continuous` class, `f` object inherits from it\n",
      "    a collection of generic methods (see below for the full list),\n",
      "    and completes them with details specific for this particular distribution.\n",
      "    \n",
      "    Methods\n",
      "    -------\n",
      "    rvs(dfn, dfd, loc=0, scale=1, size=1, random_state=None)\n",
      "        Random variates.\n",
      "    pdf(x, dfn, dfd, loc=0, scale=1)\n",
      "        Probability density function.\n",
      "    logpdf(x, dfn, dfd, loc=0, scale=1)\n",
      "        Log of the probability density function.\n",
      "    cdf(x, dfn, dfd, loc=0, scale=1)\n",
      "        Cumulative distribution function.\n",
      "    logcdf(x, dfn, dfd, loc=0, scale=1)\n",
      "        Log of the cumulative distribution function.\n",
      "    sf(x, dfn, dfd, loc=0, scale=1)\n",
      "        Survival function  (also defined as ``1 - cdf``, but `sf` is sometimes more accurate).\n",
      "    logsf(x, dfn, dfd, loc=0, scale=1)\n",
      "        Log of the survival function.\n",
      "    ppf(q, dfn, dfd, loc=0, scale=1)\n",
      "        Percent point function (inverse of ``cdf`` --- percentiles).\n",
      "    isf(q, dfn, dfd, loc=0, scale=1)\n",
      "        Inverse survival function (inverse of ``sf``).\n",
      "    moment(n, dfn, dfd, loc=0, scale=1)\n",
      "        Non-central moment of order n\n",
      "    stats(dfn, dfd, loc=0, scale=1, moments='mv')\n",
      "        Mean('m'), variance('v'), skew('s'), and/or kurtosis('k').\n",
      "    entropy(dfn, dfd, loc=0, scale=1)\n",
      "        (Differential) entropy of the RV.\n",
      "    fit(data)\n",
      "        Parameter estimates for generic data.\n",
      "        See `scipy.stats.rv_continuous.fit <https://docs.scipy.org/doc/scipy/reference/generated/scipy.stats.rv_continuous.fit.html#scipy.stats.rv_continuous.fit>`__ for detailed documentation of the\n",
      "        keyword arguments.\n",
      "    expect(func, args=(dfn, dfd), loc=0, scale=1, lb=None, ub=None, conditional=False, **kwds)\n",
      "        Expected value of a function (of one argument) with respect to the distribution.\n",
      "    median(dfn, dfd, loc=0, scale=1)\n",
      "        Median of the distribution.\n",
      "    mean(dfn, dfd, loc=0, scale=1)\n",
      "        Mean of the distribution.\n",
      "    var(dfn, dfd, loc=0, scale=1)\n",
      "        Variance of the distribution.\n",
      "    std(dfn, dfd, loc=0, scale=1)\n",
      "        Standard deviation of the distribution.\n",
      "    interval(alpha, dfn, dfd, loc=0, scale=1)\n",
      "        Endpoints of the range that contains alpha percent of the distribution\n",
      "\n",
      "    Notes\n",
      "    -----\n",
      "    The probability density function for `f` is:\n",
      "\n",
      "    .. math::\n",
      "\n",
      "        f(x, df_1, df_2) = \\frac{df_2^{df_2/2} df_1^{df_1/2} x^{df_1 / 2-1}}\n",
      "                                {(df_2+df_1 x)^{(df_1+df_2)/2}\n",
      "                                 B(df_1/2, df_2/2)}\n",
      "\n",
      "    for :math:`x > 0`.\n",
      "\n",
      "    `f` takes ``dfn`` and ``dfd`` as shape parameters.\n",
      "\n",
      "    The probability density above is defined in the \"standardized\" form. To shift\n",
      "    and/or scale the distribution use the ``loc`` and ``scale`` parameters.\n",
      "    Specifically, ``f.pdf(x, dfn, dfd, loc, scale)`` is identically\n",
      "    equivalent to ``f.pdf(y, dfn, dfd) / scale`` with\n",
      "    ``y = (x - loc) / scale``.\n",
      "\n",
      "    Examples\n",
      "    --------\n",
      "    >>> from scipy.stats import f\n",
      "    >>> import matplotlib.pyplot as plt\n",
      "    >>> fig, ax = plt.subplots(1, 1)\n",
      "    \n",
      "    Calculate a few first moments:\n",
      "    \n",
      "    >>> dfn, dfd = 29, 18\n",
      "    >>> mean, var, skew, kurt = f.stats(dfn, dfd, moments='mvsk')\n",
      "    \n",
      "    Display the probability density function (``pdf``):\n",
      "    \n",
      "    >>> x = np.linspace(f.ppf(0.01, dfn, dfd),\n",
      "    ...                 f.ppf(0.99, dfn, dfd), 100)\n",
      "    >>> ax.plot(x, f.pdf(x, dfn, dfd),\n",
      "    ...        'r-', lw=5, alpha=0.6, label='f pdf')\n",
      "    \n",
      "    Alternatively, the distribution object can be called (as a function)\n",
      "    to fix the shape, location and scale parameters. This returns a \"frozen\"\n",
      "    RV object holding the given parameters fixed.\n",
      "    \n",
      "    Freeze the distribution and display the frozen ``pdf``:\n",
      "    \n",
      "    >>> rv = f(dfn, dfd)\n",
      "    >>> ax.plot(x, rv.pdf(x), 'k-', lw=2, label='frozen pdf')\n",
      "    \n",
      "    Check accuracy of ``cdf`` and ``ppf``:\n",
      "    \n",
      "    >>> vals = f.ppf([0.001, 0.5, 0.999], dfn, dfd)\n",
      "    >>> np.allclose([0.001, 0.5, 0.999], f.cdf(vals, dfn, dfd))\n",
      "    True\n",
      "    \n",
      "    Generate random numbers:\n",
      "    \n",
      "    >>> r = f.rvs(dfn, dfd, size=1000)\n",
      "    \n",
      "    And compare the histogram:\n",
      "    \n",
      "    >>> ax.hist(r, density=True, histtype='stepfilled', alpha=0.2)\n",
      "    >>> ax.legend(loc='best', frameon=False)\n",
      "    >>> plt.show()\n",
      "    \n",
      "\n",
      "    \n"
     ]
    }
   ],
   "source": [
    "print(stats.f.__doc__)"
   ]
  }
 ],
 "metadata": {
  "kernelspec": {
   "display_name": "Python 3",
   "language": "python",
   "name": "python3"
  },
  "language_info": {
   "codemirror_mode": {
    "name": "ipython",
    "version": 3
   },
   "file_extension": ".py",
   "mimetype": "text/x-python",
   "name": "python",
   "nbconvert_exporter": "python",
   "pygments_lexer": "ipython3",
   "version": "3.8.5"
  }
 },
 "nbformat": 4,
 "nbformat_minor": 4
}
