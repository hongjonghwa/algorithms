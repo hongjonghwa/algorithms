{
 "cells": [
  {
   "cell_type": "code",
   "execution_count": null,
   "metadata": {},
   "outputs": [],
   "source": [
    "\"\"\"\n",
    "카이제곱 검정(chi-squared test) 또는 χ2 검정은 카이제곱 분포에 기초한 통계적 방법으로,\n",
    "관찰된 빈도가 기대되는 빈도와 의미있게 다른지의 여부를 검증하기 위해 사용되는 검증방법이다.\n",
    "자료가 빈도로 주어졌을 때, 특히 명목척도 자료의 분석에 이용된다.\n",
    "\n",
    "카이제곱 값은 χ2 = Σ (관측값 - 기댓값)^2 / 기댓값 으로 계산한다.\n",
    "\n",
    "검증 유형 : 동질성 검증과 독립성 검증 두 유형이 있다.\n",
    "\n",
    "동질성 검증: '변인의 분포가 이항분포나 정규분포와 동일하다'라는 가설을 설정한다. \n",
    "           이는 어떤 모집단의 표본이 그 모집단을 대표하고 있는지를 검증하는 데 사용한다.\n",
    "독립성 검증: 변인이 두 개 이상일 때 사용되며, \n",
    "           기대빈도는 '두 변인이 서로 상관이 없고 독립적'이라고 기대하는 것을 의미하며 \n",
    "           관찰빈도와의 차이를 통해 기대빈도의 진위여부를 밝힌다.\n",
    "\"\"\""
   ]
  },
  {
   "cell_type": "code",
   "execution_count": 1,
   "metadata": {},
   "outputs": [
    {
     "data": {
      "text/html": [
       "<img src=\"https://wikimedia.org/api/rest_v1/media/math/render/svg/09e6396747ba7b2d5e987f127e5ef8804084db41\"/>"
      ],
      "text/plain": [
       "<IPython.core.display.Image object>"
      ]
     },
     "execution_count": 1,
     "metadata": {},
     "output_type": "execute_result"
    }
   ],
   "source": [
    "from IPython import display\n",
    "display.Image(url=\"https://wikimedia.org/api/rest_v1/media/math/render/svg/09e6396747ba7b2d5e987f127e5ef8804084db41\")"
   ]
  },
  {
   "cell_type": "code",
   "execution_count": null,
   "metadata": {},
   "outputs": [],
   "source": [
    "# - 카이제곱분포: k(자유도)의 표준정규분포를 따르는 독립변수의 제곱의 합"
   ]
  },
  {
   "cell_type": "code",
   "execution_count": 8,
   "metadata": {},
   "outputs": [
    {
     "name": "stdout",
     "output_type": "stream",
     "text": [
      "# 적합도(동질성) 검정\n"
     ]
    }
   ],
   "source": [
    "\"\"\"\n",
    "단변량 카이제곱검정 ( 적합도 검정 )\n",
    "\n",
    "H0: 도수분포가 제시된 모형과 다르지 않음.\n",
    "자유도: n-1\n",
    "χ2 = Σ { (O - E)**2 / E }\n",
    "\"\"\"\n",
    "print(\"# 적합도(동질성) 검정\")"
   ]
  },
  {
   "cell_type": "code",
   "execution_count": 2,
   "metadata": {},
   "outputs": [],
   "source": [
    "observed, expected = [324, 78, 261], [371, 80, 212]\n"
   ]
  },
  {
   "cell_type": "code",
   "execution_count": 4,
   "metadata": {},
   "outputs": [
    {
     "data": {
      "text/html": [
       "<div>\n",
       "<style scoped>\n",
       "    .dataframe tbody tr th:only-of-type {\n",
       "        vertical-align: middle;\n",
       "    }\n",
       "\n",
       "    .dataframe tbody tr th {\n",
       "        vertical-align: top;\n",
       "    }\n",
       "\n",
       "    .dataframe thead th {\n",
       "        text-align: right;\n",
       "    }\n",
       "</style>\n",
       "<table border=\"1\" class=\"dataframe\">\n",
       "  <thead>\n",
       "    <tr style=\"text-align: right;\">\n",
       "      <th></th>\n",
       "      <th>A</th>\n",
       "      <th>B</th>\n",
       "      <th>C</th>\n",
       "    </tr>\n",
       "  </thead>\n",
       "  <tbody>\n",
       "    <tr>\n",
       "      <th>OBS</th>\n",
       "      <td>324</td>\n",
       "      <td>78</td>\n",
       "      <td>261</td>\n",
       "    </tr>\n",
       "    <tr>\n",
       "      <th>EXP</th>\n",
       "      <td>371</td>\n",
       "      <td>80</td>\n",
       "      <td>212</td>\n",
       "    </tr>\n",
       "  </tbody>\n",
       "</table>\n",
       "</div>"
      ],
      "text/plain": [
       "       A   B    C\n",
       "OBS  324  78  261\n",
       "EXP  371  80  212"
      ]
     },
     "execution_count": 4,
     "metadata": {},
     "output_type": "execute_result"
    }
   ],
   "source": [
    "import pandas as pd\n",
    "pd.DataFrame([observed, expected], columns=['A', 'B', 'C'], index=['OBS', 'EXP'])\n"
   ]
  },
  {
   "cell_type": "code",
   "execution_count": 3,
   "metadata": {},
   "outputs": [
    {
     "ename": "NameError",
     "evalue": "name 'observed' is not defined",
     "output_type": "error",
     "traceback": [
      "\u001b[0;31m---------------------------------------------------------------------------\u001b[0m",
      "\u001b[0;31mNameError\u001b[0m                                 Traceback (most recent call last)",
      "\u001b[0;32m<ipython-input-3-f86eb9cfd2c7>\u001b[0m in \u001b[0;36m<module>\u001b[0;34m\u001b[0m\n\u001b[1;32m      1\u001b[0m \u001b[0;32mfrom\u001b[0m \u001b[0mscipy\u001b[0m \u001b[0;32mimport\u001b[0m \u001b[0mstats\u001b[0m\u001b[0;34m\u001b[0m\u001b[0;34m\u001b[0m\u001b[0m\n\u001b[0;32m----> 2\u001b[0;31m \u001b[0mstatistic\u001b[0m\u001b[0;34m,\u001b[0m \u001b[0mpvalue\u001b[0m \u001b[0;34m=\u001b[0m \u001b[0mstats\u001b[0m\u001b[0;34m.\u001b[0m\u001b[0mchisquare\u001b[0m\u001b[0;34m(\u001b[0m\u001b[0mf_obs\u001b[0m\u001b[0;34m=\u001b[0m\u001b[0mobserved\u001b[0m\u001b[0;34m,\u001b[0m \u001b[0mf_exp\u001b[0m\u001b[0;34m=\u001b[0m\u001b[0mexpected\u001b[0m\u001b[0;34m)\u001b[0m  \u001b[0;31m# H0 : 관찰빈도는 기대빈도와 같다\u001b[0m\u001b[0;34m\u001b[0m\u001b[0;34m\u001b[0m\u001b[0m\n\u001b[0m\u001b[1;32m      3\u001b[0m \u001b[0mprint\u001b[0m\u001b[0;34m(\u001b[0m\u001b[0;34m\"statistic:\"\u001b[0m\u001b[0;34m,\u001b[0m \u001b[0mstatistic\u001b[0m\u001b[0;34m,\u001b[0m \u001b[0;34m\"pvalue:\"\u001b[0m\u001b[0;34m,\u001b[0m \u001b[0mpvalue\u001b[0m\u001b[0;34m)\u001b[0m\u001b[0;34m\u001b[0m\u001b[0;34m\u001b[0m\u001b[0m\n",
      "\u001b[0;31mNameError\u001b[0m: name 'observed' is not defined"
     ]
    }
   ],
   "source": [
    "from scipy import stats\n",
    "statistic, pvalue = stats.chisquare(f_obs=observed, f_exp=expected)  # H0 : 관찰빈도는 기대빈도와 같다\n",
    "print(\"statistic:\", statistic, \"pvalue:\", pvalue)\n"
   ]
  },
  {
   "cell_type": "code",
   "execution_count": 9,
   "metadata": {},
   "outputs": [
    {
     "name": "stdout",
     "output_type": "stream",
     "text": [
      "# 독립성 검정\n"
     ]
    }
   ],
   "source": [
    "\"\"\"\n",
    "이변량 카이제곱검정 ( 독립성 검정 )\n",
    "\n",
    "H0: 두 명목형 변수가 독립적\n",
    "자유도 :  (r-1) x (c-1)\n",
    "χ2 = ΣΣ { (Oij - Eij)**2 / Eij }\n",
    "\n",
    "\"\"\"\n",
    "print(\"# 독립성 검정\")"
   ]
  },
  {
   "cell_type": "code",
   "execution_count": 10,
   "metadata": {},
   "outputs": [],
   "source": [
    "observed = [[440, 567, 349, 59], [924, 1311, 794, 102], [258, 311, 157, 19]]"
   ]
  },
  {
   "cell_type": "code",
   "execution_count": 11,
   "metadata": {},
   "outputs": [
    {
     "data": {
      "text/html": [
       "<div>\n",
       "<style scoped>\n",
       "    .dataframe tbody tr th:only-of-type {\n",
       "        vertical-align: middle;\n",
       "    }\n",
       "\n",
       "    .dataframe tbody tr th {\n",
       "        vertical-align: top;\n",
       "    }\n",
       "\n",
       "    .dataframe thead th {\n",
       "        text-align: right;\n",
       "    }\n",
       "</style>\n",
       "<table border=\"1\" class=\"dataframe\">\n",
       "  <thead>\n",
       "    <tr style=\"text-align: right;\">\n",
       "      <th></th>\n",
       "      <th>18-29</th>\n",
       "      <th>30-44</th>\n",
       "      <th>45-64</th>\n",
       "      <th>65세 이상</th>\n",
       "    </tr>\n",
       "  </thead>\n",
       "  <tbody>\n",
       "    <tr>\n",
       "      <th>눈</th>\n",
       "      <td>440</td>\n",
       "      <td>567</td>\n",
       "      <td>349</td>\n",
       "      <td>59</td>\n",
       "    </tr>\n",
       "    <tr>\n",
       "      <th>코</th>\n",
       "      <td>924</td>\n",
       "      <td>1311</td>\n",
       "      <td>794</td>\n",
       "      <td>102</td>\n",
       "    </tr>\n",
       "    <tr>\n",
       "      <th>목</th>\n",
       "      <td>258</td>\n",
       "      <td>311</td>\n",
       "      <td>157</td>\n",
       "      <td>19</td>\n",
       "    </tr>\n",
       "  </tbody>\n",
       "</table>\n",
       "</div>"
      ],
      "text/plain": [
       "   18-29  30-44  45-64  65세 이상\n",
       "눈    440    567    349      59\n",
       "코    924   1311    794     102\n",
       "목    258    311    157      19"
      ]
     },
     "execution_count": 11,
     "metadata": {},
     "output_type": "execute_result"
    }
   ],
   "source": [
    "pd.DataFrame(observed, columns=['18-29', '30-44', '45-64', '65세 이상'], index=['눈', '코', '목'])"
   ]
  },
  {
   "cell_type": "code",
   "execution_count": 14,
   "metadata": {},
   "outputs": [
    {
     "name": "stdout",
     "output_type": "stream",
     "text": [
      "statistic: 14.796099824447591\n",
      "pvalue: 0.021903283890413405\n",
      "dof: 6\n",
      "expected: [[ 433.78000378  585.41580042  347.66584767   48.13834814]\n",
      " [ 959.83405783 1295.36174636  769.28746929  106.51672652]\n",
      " [ 228.38593839  308.22245322  183.04668305   25.34492534]]\n"
     ]
    }
   ],
   "source": [
    "# stats.chi2_contingency(observed, correction=True, lambda_=None)\n",
    "# Chi-square test of independence of variables in a contingency table(분할표).\n",
    "\n",
    "# - 분할표 : 두 변수가 모두 범주형일 때, 도수분포표를 2차원으로 확장한 것\n",
    "\n",
    "statistic, pvalue, dof, expected = stats.chi2_contingency(observed)  # H0 : 두 독립변수가 서로 관련이 없다\n",
    "print(\"statistic:\", statistic)\n",
    "print(\"pvalue:\", pvalue) # 0.02 귀무가설 기각, 나이와 진찰받은 부위가 서로 관계가 있다\n",
    "print(\"dof:\", dof)\n",
    "print(\"expected:\", expected)"
   ]
  },
  {
   "cell_type": "code",
   "execution_count": 4,
   "metadata": {},
   "outputs": [
    {
     "name": "stdout",
     "output_type": "stream",
     "text": [
      "\n",
      "    Calculate a one-way chi-square test.\n",
      "\n",
      "    The chi-square test tests the null hypothesis that the categorical data\n",
      "    has the given frequencies.\n",
      "\n",
      "    Parameters\n",
      "    ----------\n",
      "    f_obs : array_like\n",
      "        Observed frequencies in each category.\n",
      "    f_exp : array_like, optional\n",
      "        Expected frequencies in each category.  By default the categories are\n",
      "        assumed to be equally likely.\n",
      "    ddof : int, optional\n",
      "        \"Delta degrees of freedom\": adjustment to the degrees of freedom\n",
      "        for the p-value.  The p-value is computed using a chi-squared\n",
      "        distribution with ``k - 1 - ddof`` degrees of freedom, where `k`\n",
      "        is the number of observed frequencies.  The default value of `ddof`\n",
      "        is 0.\n",
      "    axis : int or None, optional\n",
      "        The axis of the broadcast result of `f_obs` and `f_exp` along which to\n",
      "        apply the test.  If axis is None, all values in `f_obs` are treated\n",
      "        as a single data set.  Default is 0.\n",
      "\n",
      "    Returns\n",
      "    -------\n",
      "    chisq : float or ndarray\n",
      "        The chi-squared test statistic.  The value is a float if `axis` is\n",
      "        None or `f_obs` and `f_exp` are 1-D.\n",
      "    p : float or ndarray\n",
      "        The p-value of the test.  The value is a float if `ddof` and the\n",
      "        return value `chisq` are scalars.\n",
      "\n",
      "    See Also\n",
      "    --------\n",
      "    scipy.stats.power_divergence\n",
      "\n",
      "    Notes\n",
      "    -----\n",
      "    This test is invalid when the observed or expected frequencies in each\n",
      "    category are too small.  A typical rule is that all of the observed\n",
      "    and expected frequencies should be at least 5.\n",
      "\n",
      "    The default degrees of freedom, k-1, are for the case when no parameters\n",
      "    of the distribution are estimated. If p parameters are estimated by\n",
      "    efficient maximum likelihood then the correct degrees of freedom are\n",
      "    k-1-p. If the parameters are estimated in a different way, then the\n",
      "    dof can be between k-1-p and k-1. However, it is also possible that\n",
      "    the asymptotic distribution is not chi-square, in which case this test\n",
      "    is not appropriate.\n",
      "\n",
      "    References\n",
      "    ----------\n",
      "    .. [1] Lowry, Richard.  \"Concepts and Applications of Inferential\n",
      "           Statistics\". Chapter 8.\n",
      "           https://web.archive.org/web/20171022032306/http://vassarstats.net:80/textbook/ch8pt1.html\n",
      "    .. [2] \"Chi-squared test\", https://en.wikipedia.org/wiki/Chi-squared_test\n",
      "\n",
      "    Examples\n",
      "    --------\n",
      "    When just `f_obs` is given, it is assumed that the expected frequencies\n",
      "    are uniform and given by the mean of the observed frequencies.\n",
      "\n",
      "    >>> from scipy.stats import chisquare\n",
      "    >>> chisquare([16, 18, 16, 14, 12, 12])\n",
      "    (2.0, 0.84914503608460956)\n",
      "\n",
      "    With `f_exp` the expected frequencies can be given.\n",
      "\n",
      "    >>> chisquare([16, 18, 16, 14, 12, 12], f_exp=[16, 16, 16, 16, 16, 8])\n",
      "    (3.5, 0.62338762774958223)\n",
      "\n",
      "    When `f_obs` is 2-D, by default the test is applied to each column.\n",
      "\n",
      "    >>> obs = np.array([[16, 18, 16, 14, 12, 12], [32, 24, 16, 28, 20, 24]]).T\n",
      "    >>> obs.shape\n",
      "    (6, 2)\n",
      "    >>> chisquare(obs)\n",
      "    (array([ 2.        ,  6.66666667]), array([ 0.84914504,  0.24663415]))\n",
      "\n",
      "    By setting ``axis=None``, the test is applied to all data in the array,\n",
      "    which is equivalent to applying the test to the flattened array.\n",
      "\n",
      "    >>> chisquare(obs, axis=None)\n",
      "    (23.31034482758621, 0.015975692534127565)\n",
      "    >>> chisquare(obs.ravel())\n",
      "    (23.31034482758621, 0.015975692534127565)\n",
      "\n",
      "    `ddof` is the change to make to the default degrees of freedom.\n",
      "\n",
      "    >>> chisquare([16, 18, 16, 14, 12, 12], ddof=1)\n",
      "    (2.0, 0.73575888234288467)\n",
      "\n",
      "    The calculation of the p-values is done by broadcasting the\n",
      "    chi-squared statistic with `ddof`.\n",
      "\n",
      "    >>> chisquare([16, 18, 16, 14, 12, 12], ddof=[0,1,2])\n",
      "    (2.0, array([ 0.84914504,  0.73575888,  0.5724067 ]))\n",
      "\n",
      "    `f_obs` and `f_exp` are also broadcast.  In the following, `f_obs` has\n",
      "    shape (6,) and `f_exp` has shape (2, 6), so the result of broadcasting\n",
      "    `f_obs` and `f_exp` has shape (2, 6).  To compute the desired chi-squared\n",
      "    statistics, we use ``axis=1``:\n",
      "\n",
      "    >>> chisquare([16, 18, 16, 14, 12, 12],\n",
      "    ...           f_exp=[[16, 16, 16, 16, 16, 8], [8, 20, 20, 16, 12, 12]],\n",
      "    ...           axis=1)\n",
      "    (array([ 3.5 ,  9.25]), array([ 0.62338763,  0.09949846]))\n",
      "\n",
      "    \n"
     ]
    }
   ],
   "source": [
    "print(stats.chisquare.__doc__)"
   ]
  },
  {
   "cell_type": "code",
   "execution_count": null,
   "metadata": {},
   "outputs": [],
   "source": []
  }
 ],
 "metadata": {
  "kernelspec": {
   "display_name": "Python 3",
   "language": "python",
   "name": "python3"
  },
  "language_info": {
   "codemirror_mode": {
    "name": "ipython",
    "version": 3
   },
   "file_extension": ".py",
   "mimetype": "text/x-python",
   "name": "python",
   "nbconvert_exporter": "python",
   "pygments_lexer": "ipython3",
   "version": "3.8.5"
  }
 },
 "nbformat": 4,
 "nbformat_minor": 4
}
